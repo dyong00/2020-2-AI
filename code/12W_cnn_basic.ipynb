{
  "nbformat": 4,
  "nbformat_minor": 0,
  "metadata": {
    "colab": {
      "name": "12W-cnn-basic.ipynb",
      "provenance": [],
      "collapsed_sections": [],
      "include_colab_link": true
    },
    "kernelspec": {
      "name": "python3",
      "display_name": "Python 3"
    }
  },
  "cells": [
    {
      "cell_type": "markdown",
      "metadata": {
        "id": "view-in-github",
        "colab_type": "text"
      },
      "source": [
        "<a href=\"https://colab.research.google.com/github/dyong00/2020-2-AI/blob/master/code/12W_cnn_basic.ipynb\" target=\"_parent\"><img src=\"https://colab.research.google.com/assets/colab-badge.svg\" alt=\"Open In Colab\"/></a>"
      ]
    },
    {
      "cell_type": "code",
      "metadata": {
        "id": "l3MTk9Afo8Iq"
      },
      "source": [
        "# %matplotlib inline\n",
        "import numpy as np\n",
        "import tensorflow as tf\n",
        "import matplotlib.pyplot as plt"
      ],
      "execution_count": null,
      "outputs": []
    },
    {
      "cell_type": "code",
      "metadata": {
        "colab": {
          "base_uri": "https://localhost:8080/"
        },
        "id": "w98EmSknpP8X",
        "outputId": "38225c52-41c5-420a-dbfb-3305d9f208d7"
      },
      "source": [
        "image = np.array([[[1,2,3],\n",
        "                   [4,5,6], \n",
        "                   [7,8,9]]], dtype=np.float32)\n",
        "image.shape"
      ],
      "execution_count": null,
      "outputs": [
        {
          "output_type": "execute_result",
          "data": {
            "text/plain": [
              "(1, 3, 3)"
            ]
          },
          "metadata": {
            "tags": []
          },
          "execution_count": 2
        }
      ]
    },
    {
      "cell_type": "code",
      "metadata": {
        "colab": {
          "base_uri": "https://localhost:8080/"
        },
        "id": "_vFpoWgSpcS7",
        "outputId": "e685327f-03be-4805-8f9f-583e9aee0a34"
      },
      "source": [
        "image = image.reshape(-1, 3, 3, 1)\n",
        "'''\n",
        "image = np.array([[[[1],[2],[3]],\n",
        "                   [[4],[5],[6]], \n",
        "                   [[7],[8],[9]]]], dtype=np.float32)\n",
        "'''\n",
        "image.shape"
      ],
      "execution_count": null,
      "outputs": [
        {
          "output_type": "execute_result",
          "data": {
            "text/plain": [
              "(1, 3, 3, 1)"
            ]
          },
          "metadata": {
            "tags": []
          },
          "execution_count": 3
        }
      ]
    },
    {
      "cell_type": "code",
      "metadata": {
        "colab": {
          "base_uri": "https://localhost:8080/",
          "height": 480
        },
        "id": "V7DWG7XRpdKA",
        "outputId": "00f6054c-3986-4026-843a-a5acadd48c5a"
      },
      "source": [
        "print(image)\n",
        "plt.imshow(image.reshape(3,3), cmap='Greys')"
      ],
      "execution_count": null,
      "outputs": [
        {
          "output_type": "stream",
          "text": [
            "[[[[1.]\n",
            "   [2.]\n",
            "   [3.]]\n",
            "\n",
            "  [[4.]\n",
            "   [5.]\n",
            "   [6.]]\n",
            "\n",
            "  [[7.]\n",
            "   [8.]\n",
            "   [9.]]]]\n"
          ],
          "name": "stdout"
        },
        {
          "output_type": "execute_result",
          "data": {
            "text/plain": [
              "<matplotlib.image.AxesImage at 0x7efbeb7a3d30>"
            ]
          },
          "metadata": {
            "tags": []
          },
          "execution_count": 4
        },
        {
          "output_type": "display_data",
          "data": {
            "image/png": "[encoded data removed]",
            "text/plain": [
              "<Figure size 432x288 with 1 Axes>"
            ]
          },
          "metadata": {
            "tags": [],
            "needs_background": "light"
          }
        }
      ]
    },
    {
      "cell_type": "code",
      "metadata": {
        "colab": {
          "base_uri": "https://localhost:8080/",
          "height": 304
        },
        "id": "WkgoqwDIpeqo",
        "outputId": "c698daec-1a30-44a8-97f9-14288a56969e"
      },
      "source": [
        "image = np.array([[[[1],[2],[3]],\n",
        "                   [[4],[5],[6]], \n",
        "                   [[7],[8],[9]]]], dtype=np.float32)\n",
        "print(image.shape)\n",
        "plt.imshow(image.reshape(3,3), cmap='Greys')"
      ],
      "execution_count": null,
      "outputs": [
        {
          "output_type": "stream",
          "text": [
            "(1, 3, 3, 1)\n"
          ],
          "name": "stdout"
        },
        {
          "output_type": "execute_result",
          "data": {
            "text/plain": [
              "<matplotlib.image.AxesImage at 0x7efbeb2fe278>"
            ]
          },
          "metadata": {
            "tags": []
          },
          "execution_count": 5
        },
        {
          "output_type": "display_data",
          "data": {
            "image/png": "[encoded data removed]",
            "text/plain": [
              "<Figure size 432x288 with 1 Axes>"
            ]
          },
          "metadata": {
            "tags": [],
            "needs_background": "light"
          }
        }
      ]
    },
    {
      "cell_type": "code",
      "metadata": {
        "colab": {
          "base_uri": "https://localhost:8080/"
        },
        "id": "yfU9H_9gpg3n",
        "outputId": "195d2b72-f198-4a5e-fc87-5f1b56a5ae3a"
      },
      "source": [
        "print(image)"
      ],
      "execution_count": null,
      "outputs": [
        {
          "output_type": "stream",
          "text": [
            "[[[[1.]\n",
            "   [2.]\n",
            "   [3.]]\n",
            "\n",
            "  [[4.]\n",
            "   [5.]\n",
            "   [6.]]\n",
            "\n",
            "  [[7.]\n",
            "   [8.]\n",
            "   [9.]]]]\n"
          ],
          "name": "stdout"
        }
      ]
    },
    {
      "cell_type": "code",
      "metadata": {
        "colab": {
          "base_uri": "https://localhost:8080/"
        },
        "id": "OneMRhlHpiE_",
        "outputId": "23e620c2-e950-41d0-b307-c716de35c84a"
      },
      "source": [
        "image = np.array([[[[1],[2],[3]],\n",
        "                   [[4],[5],[6]], \n",
        "                   [[7],[8],[9]]]], dtype=np.float32)\n",
        "print(\"image.shape\", image.shape)\n",
        "\n",
        "# wight가 커널\n",
        "weight = tf.constant([[[[1.]],[[1.]]],\n",
        "                      [[[1.]],[[1.]]]])\n",
        "print(\"weight.shape\", weight.shape)\n",
        "\n",
        "conv2d = tf.nn.conv2d(image, weight, strides=[1, 1, 1, 1], padding='VALID')\n",
        "print(\"conv2d.shape\", conv2d.shape)\n",
        "\n",
        "conv2d_img = np.swapaxes(conv2d, 0, 3)\n",
        "print(\"conv2d_img.shape\", conv2d_img.shape)\n",
        "print(type(conv2d_img))\n",
        "print(conv2d_img)"
      ],
      "execution_count": null,
      "outputs": [
        {
          "output_type": "stream",
          "text": [
            "image.shape (1, 3, 3, 1)\n",
            "weight.shape (2, 2, 1, 1)\n",
            "conv2d.shape (1, 2, 2, 1)\n",
            "conv2d_img.shape (1, 2, 2, 1)\n",
            "<class 'numpy.ndarray'>\n",
            "[[[[12.]\n",
            "   [16.]]\n",
            "\n",
            "  [[24.]\n",
            "   [28.]]]]\n"
          ],
          "name": "stdout"
        }
      ]
    },
    {
      "cell_type": "code",
      "metadata": {
        "colab": {
          "base_uri": "https://localhost:8080/",
          "height": 304
        },
        "id": "_LWf03t_plLi",
        "outputId": "d972219a-74b5-433b-a923-39dc44ab7342"
      },
      "source": [
        "for i, one_img in enumerate(conv2d_img):\n",
        "    print(one_img.reshape(2,2))\n",
        "    plt.subplot(1, 1, i+1)\n",
        "    plt.imshow(one_img.reshape(2,2), cmap='gray')"
      ],
      "execution_count": null,
      "outputs": [
        {
          "output_type": "stream",
          "text": [
            "[[12. 16.]\n",
            " [24. 28.]]\n"
          ],
          "name": "stdout"
        },
        {
          "output_type": "display_data",
          "data": {
            "image/png": "[encoded data removed]",
            "text/plain": [
              "<Figure size 432x288 with 1 Axes>"
            ]
          },
          "metadata": {
            "tags": [],
            "needs_background": "light"
          }
        }
      ]
    },
    {
      "cell_type": "code",
      "metadata": {
        "colab": {
          "base_uri": "https://localhost:8080/"
        },
        "id": "ODaa_KwvpnQv",
        "outputId": "3e695b52-0857-4f16-a8bb-71dd3a07857f"
      },
      "source": [
        "x_in = np.array([[\n",
        "  [[2], [1], [2], [0], [1]],\n",
        "  [[1], [3], [2], [2], [3]],\n",
        "  [[1], [1], [3], [3], [0]],\n",
        "  [[2], [2], [0], [1], [1]],\n",
        "  [[0], [0], [3], [1], [2]], ]])\n",
        "x = tf.constant(x_in, dtype=tf.float32)\n",
        "print(x.shape)\n",
        "\n",
        "# 2 x 2 커널 2개 적용\n",
        "kernel_in = np.array([\n",
        " [ [[2, 0.1]],[[3, 0.2]] ],\n",
        " [ [[0, 0.3]],[[1, 0.4]] ], ])\n",
        "kernel = tf.constant(kernel_in, dtype=tf.float32)\n",
        "print(kernel)"
      ],
      "execution_count": null,
      "outputs": [
        {
          "output_type": "stream",
          "text": [
            "(1, 5, 5, 1)\n",
            "tf.Tensor(\n",
            "[[[[2.  0.1]]\n",
            "\n",
            "  [[3.  0.2]]]\n",
            "\n",
            "\n",
            " [[[0.  0.3]]\n",
            "\n",
            "  [[1.  0.4]]]], shape=(2, 2, 1, 2), dtype=float32)\n"
          ],
          "name": "stdout"
        }
      ]
    },
    {
      "cell_type": "code",
      "metadata": {
        "colab": {
          "base_uri": "https://localhost:8080/"
        },
        "id": "BK9JxXtppoxO",
        "outputId": "38a49291-b80f-4344-c315-1a6204c916f1"
      },
      "source": [
        "conv2d = tf.nn.conv2d(x, kernel, strides=[1, 1, 1, 1], padding='VALID')\n",
        "print(\"conv2d.shape\", conv2d.shape) #1, 4, 4, 2 = 채널, 가로, 세로, 특징 수\n",
        "print(conv2d)"
      ],
      "execution_count": null,
      "outputs": [
        {
          "output_type": "stream",
          "text": [
            "conv2d.shape (1, 4, 4, 2)\n",
            "tf.Tensor(\n",
            "[[[[10.         1.9      ]\n",
            "   [10.         2.2      ]\n",
            "   [ 6.         1.6      ]\n",
            "   [ 6.         2.       ]]\n",
            "\n",
            "  [[12.         1.4      ]\n",
            "   [15.         2.2      ]\n",
            "   [13.         2.7      ]\n",
            "   [13.         1.7      ]]\n",
            "\n",
            "  [[ 7.         1.7      ]\n",
            "   [11.         1.3000001]\n",
            "   [16.         1.3      ]\n",
            "   [ 7.         1.       ]]\n",
            "\n",
            "  [[10.         0.6      ]\n",
            "   [ 7.         1.4000001]\n",
            "   [ 4.         1.5      ]\n",
            "   [ 7.         1.4      ]]]], shape=(1, 4, 4, 2), dtype=float32)\n"
          ],
          "name": "stdout"
        }
      ]
    },
    {
      "cell_type": "code",
      "metadata": {
        "colab": {
          "base_uri": "https://localhost:8080/"
        },
        "id": "tNUx7GWZpq0T",
        "outputId": "58f77fec-38b4-419d-bb09-8e5871950239"
      },
      "source": [
        "# (1, 4, 4, 2) = 채널, 가로, 세로, 특징 수\n",
        "# 채널과 특징을 교환하여 그림을 그리도록 하기 위해\n",
        "conv2d_img = np.swapaxes(conv2d, 0, 3)\n",
        "print(\"conv2d.shape\", conv2d_img.shape) #2, 4, 4, 1 = 특징 수, 가로, 세로, 채널\n",
        "print(conv2d_img)"
      ],
      "execution_count": null,
      "outputs": [
        {
          "output_type": "stream",
          "text": [
            "conv2d.shape (2, 4, 4, 1)\n",
            "[[[[10.       ]\n",
            "   [10.       ]\n",
            "   [ 6.       ]\n",
            "   [ 6.       ]]\n",
            "\n",
            "  [[12.       ]\n",
            "   [15.       ]\n",
            "   [13.       ]\n",
            "   [13.       ]]\n",
            "\n",
            "  [[ 7.       ]\n",
            "   [11.       ]\n",
            "   [16.       ]\n",
            "   [ 7.       ]]\n",
            "\n",
            "  [[10.       ]\n",
            "   [ 7.       ]\n",
            "   [ 4.       ]\n",
            "   [ 7.       ]]]\n",
            "\n",
            "\n",
            " [[[ 1.9      ]\n",
            "   [ 2.2      ]\n",
            "   [ 1.6      ]\n",
            "   [ 2.       ]]\n",
            "\n",
            "  [[ 1.4      ]\n",
            "   [ 2.2      ]\n",
            "   [ 2.7      ]\n",
            "   [ 1.7      ]]\n",
            "\n",
            "  [[ 1.7      ]\n",
            "   [ 1.3000001]\n",
            "   [ 1.3      ]\n",
            "   [ 1.       ]]\n",
            "\n",
            "  [[ 0.6      ]\n",
            "   [ 1.4000001]\n",
            "   [ 1.5      ]\n",
            "   [ 1.4      ]]]]\n"
          ],
          "name": "stdout"
        }
      ]
    },
    {
      "cell_type": "code",
      "metadata": {
        "colab": {
          "base_uri": "https://localhost:8080/",
          "height": 341
        },
        "id": "amYHAFyvpsVS",
        "outputId": "35accbf5-9f98-4e21-d88e-580db263d641"
      },
      "source": [
        "for i, one_img in enumerate(conv2d_img):\n",
        "    print(one_img.reshape(4,4))\n",
        "    plt.subplot(1,2,i+1), plt.imshow(one_img.reshape(4,4), cmap='gray')"
      ],
      "execution_count": null,
      "outputs": [
        {
          "output_type": "stream",
          "text": [
            "[[10. 10.  6.  6.]\n",
            " [12. 15. 13. 13.]\n",
            " [ 7. 11. 16.  7.]\n",
            " [10.  7.  4.  7.]]\n",
            "[[1.9       2.2       1.6       2.       ]\n",
            " [1.4       2.2       2.7       1.7      ]\n",
            " [1.7       1.3000001 1.3       1.       ]\n",
            " [0.6       1.4000001 1.5       1.4      ]]\n"
          ],
          "name": "stdout"
        },
        {
          "output_type": "display_data",
          "data": {
            "image/png": "[encoded data removed]",
            "text/plain": [
              "<Figure size 432x288 with 2 Axes>"
            ]
          },
          "metadata": {
            "tags": [],
            "needs_background": "light"
          }
        }
      ]
    },
    {
      "cell_type": "code",
      "metadata": {
        "colab": {
          "base_uri": "https://localhost:8080/",
          "height": 310
        },
        "id": "WqyVSt98pv7R",
        "outputId": "8e67e71d-9fd6-443e-dd34-4f44878ee0ba"
      },
      "source": [
        "image = np.array([[[[1],[2],[3]],\n",
        "                   [[4],[5],[6]], \n",
        "                   [[7],[8],[9]]]], dtype=np.float32)\n",
        "print(\"image.shape\", image.shape)\n",
        "\n",
        "weight = tf.constant([[[[1.]],[[1.]]],\n",
        "                      [[[1.]],[[1.]]]])\n",
        "print(\"weight.shape\", weight.shape)\n",
        "\n",
        "conv2d = tf.nn.conv2d(image, weight, strides=[1, 1, 1, 1], padding='SAME')\n",
        "print(\"conv2d.shape\", conv2d.shape)\n",
        "\n",
        "conv2d_img = np.swapaxes(conv2d, 0, 3)\n",
        "for i, one_img in enumerate(conv2d_img):\n",
        "    print(one_img.reshape(3,3))\n",
        "    plt.subplot(1,2,i+1), plt.imshow(one_img.reshape(3,3), cmap='gray')"
      ],
      "execution_count": null,
      "outputs": [
        {
          "output_type": "stream",
          "text": [
            "image.shape (1, 3, 3, 1)\n",
            "weight.shape (2, 2, 1, 1)\n",
            "conv2d.shape (1, 3, 3, 1)\n",
            "[[12. 16.  9.]\n",
            " [24. 28. 15.]\n",
            " [15. 17.  9.]]\n"
          ],
          "name": "stdout"
        },
        {
          "output_type": "display_data",
          "data": {
            "image/png": "[encoded data removed]",
            "text/plain": [
              "<Figure size 432x288 with 1 Axes>"
            ]
          },
          "metadata": {
            "tags": [],
            "needs_background": "light"
          }
        }
      ]
    },
    {
      "cell_type": "code",
      "metadata": {
        "colab": {
          "base_uri": "https://localhost:8080/",
          "height": 358
        },
        "id": "NrTFmO2kpxj1",
        "outputId": "fafe4d16-cd55-472c-cc14-a5b812949525"
      },
      "source": [
        "image = np.array([[[[1],[2],[3]],\n",
        "                   [[4],[5],[6]], \n",
        "                   [[7],[8],[9]]]], dtype=np.float32)\n",
        "# print(\"imag:\\n\", image)\n",
        "print(\"image.shape\", image.shape)\n",
        "\n",
        "weight = tf.constant([[[[1.,10.,-1.]],[[1.,10.,-1.]]],\n",
        "                      [[[1.,10.,-1.]],[[1.,10.,-1.]]]])\n",
        "print(\"weight.shape\", weight.shape)\n",
        "\n",
        "conv2d = tf.nn.conv2d(image, weight, strides=[1, 1, 1, 1], padding='SAME')\n",
        "print(\"conv2d.shape\", conv2d.shape)\n",
        "\n",
        "conv2d_img = np.swapaxes(conv2d, 0, 3)\n",
        "for i, one_img in enumerate(conv2d_img):\n",
        "    print(one_img.reshape(3,3))\n",
        "    plt.subplot(1,3,i+1), plt.imshow(one_img.reshape(3,3), cmap='gray')"
      ],
      "execution_count": null,
      "outputs": [
        {
          "output_type": "stream",
          "text": [
            "image.shape (1, 3, 3, 1)\n",
            "weight.shape (2, 2, 1, 3)\n",
            "conv2d.shape (1, 3, 3, 3)\n",
            "[[12. 16.  9.]\n",
            " [24. 28. 15.]\n",
            " [15. 17.  9.]]\n",
            "[[120. 160.  90.]\n",
            " [240. 280. 150.]\n",
            " [150. 170.  90.]]\n",
            "[[-12. -16.  -9.]\n",
            " [-24. -28. -15.]\n",
            " [-15. -17.  -9.]]\n"
          ],
          "name": "stdout"
        },
        {
          "output_type": "display_data",
          "data": {
            "image/png": "[encoded data removed]",
            "text/plain": [
              "<Figure size 432x288 with 3 Axes>"
            ]
          },
          "metadata": {
            "tags": [],
            "needs_background": "light"
          }
        }
      ]
    },
    {
      "cell_type": "code",
      "metadata": {
        "colab": {
          "base_uri": "https://localhost:8080/"
        },
        "id": "B4O8dUdJpzhT",
        "outputId": "26b349d3-3488-4f54-c681-0d4451dfbf00"
      },
      "source": [
        "image = np.array([[[[4],[3]],\n",
        "                    [[2],[1]]]], dtype=np.float32)\n",
        "print(image.shape)\n",
        "pool = tf.nn.max_pool(image, ksize=[1, 2, 2, 1],\n",
        "                    strides=[1, 1, 1, 1], padding='VALID')\n",
        "print(pool.shape)\n",
        "print(pool.numpy())"
      ],
      "execution_count": null,
      "outputs": [
        {
          "output_type": "stream",
          "text": [
            "(1, 2, 2, 1)\n",
            "(1, 1, 1, 1)\n",
            "[[[[4.]]]]\n"
          ],
          "name": "stdout"
        }
      ]
    },
    {
      "cell_type": "code",
      "metadata": {
        "colab": {
          "base_uri": "https://localhost:8080/"
        },
        "id": "HiglChaRp2_R",
        "outputId": "a81db3d9-b759-4c1a-d8a4-96f41da84ddd"
      },
      "source": [
        "image = np.array([[[[4],[3]],\n",
        "                    [[2],[1]]]], dtype=np.float32)\n",
        "pool = tf.nn.max_pool(image, ksize=[1, 2, 2, 1],\n",
        "                    strides=[1, 1, 1, 1], padding='SAME')\n",
        "print(pool.shape)\n",
        "print(pool.numpy())"
      ],
      "execution_count": null,
      "outputs": [
        {
          "output_type": "stream",
          "text": [
            "(1, 2, 2, 1)\n",
            "[[[[4.]\n",
            "   [3.]]\n",
            "\n",
            "  [[2.]\n",
            "   [1.]]]]\n"
          ],
          "name": "stdout"
        }
      ]
    },
    {
      "cell_type": "markdown",
      "metadata": {
        "id": "WBDGdjXVp50L"
      },
      "source": [
        "# MNIST digits"
      ]
    },
    {
      "cell_type": "code",
      "metadata": {
        "colab": {
          "base_uri": "https://localhost:8080/"
        },
        "id": "BSaDE-Qmp43l",
        "outputId": "1a7cffd2-7660-42b7-8b94-cc2f675aaba1"
      },
      "source": [
        "import tensorflow as tf\n",
        "mnist = tf.keras.datasets.mnist\n",
        "\n",
        "mnist = mnist.load_data()"
      ],
      "execution_count": null,
      "outputs": [
        {
          "output_type": "stream",
          "text": [
            "Downloading data from https://storage.googleapis.com/tensorflow/tf-keras-datasets/mnist.npz\n",
            "11493376/11490434 [==============================] - 0s 0us/step\n"
          ],
          "name": "stdout"
        }
      ]
    },
    {
      "cell_type": "code",
      "metadata": {
        "colab": {
          "base_uri": "https://localhost:8080/",
          "height": 282
        },
        "id": "nc0xJopyp8cb",
        "outputId": "7cacd4d1-20c8-45b2-fab9-fd5de4839f5d"
      },
      "source": [
        "# mnist[0][0][0]: 학습 데이터, 이미지 중, 첫번째  \n",
        "img = mnist[0][0][0].reshape(28,28)\n",
        "plt.imshow(img, cmap='gray')\n",
        "print(img.shape)"
      ],
      "execution_count": null,
      "outputs": [
        {
          "output_type": "stream",
          "text": [
            "(28, 28)\n"
          ],
          "name": "stdout"
        },
        {
          "output_type": "display_data",
          "data": {
            "image/png": "[encoded data removed]",
            "text/plain": [
              "<Figure size 432x288 with 1 Axes>"
            ]
          },
          "metadata": {
            "tags": [],
            "needs_background": "light"
          }
        }
      ]
    },
    {
      "cell_type": "code",
      "metadata": {
        "colab": {
          "base_uri": "https://localhost:8080/",
          "height": 126
        },
        "id": "2IYr2nd4p9tt",
        "outputId": "d641173c-8b62-439a-e698-7019b55b3ba4"
      },
      "source": [
        "# 4차원으로 확장\n",
        "img = img.reshape(-1,28,28,1)\n",
        "# 3 x 3의 필터 5개 생성\n",
        "W1 = tf.Variable(tf.random.normal([3, 3, 1, 5], stddev=0.01))\n",
        "\n",
        "#conv2d = tf.nn.conv2d(img, W1, strides=[1, 2, 2, 1], padding='SAME')\n",
        "conv2d = tf.nn.conv2d(img, W1, strides=2, padding='SAME')\n",
        "print(conv2d.shape)\n",
        "\n",
        "conv2d_img = np.swapaxes(conv2d, 0, 3)\n",
        "for i, one_img in enumerate(conv2d_img):\n",
        "    plt.subplot(1,5,i+1)\n",
        "    plt.imshow(one_img.reshape(14,14), cmap='gray')"
      ],
      "execution_count": null,
      "outputs": [
        {
          "output_type": "stream",
          "text": [
            "(1, 14, 14, 5)\n"
          ],
          "name": "stdout"
        },
        {
          "output_type": "display_data",
          "data": {
            "image/png": "[encoded data removed]",
            "text/plain": [
              "<Figure size 432x288 with 5 Axes>"
            ]
          },
          "metadata": {
            "tags": [],
            "needs_background": "light"
          }
        }
      ]
    },
    {
      "cell_type": "code",
      "metadata": {
        "colab": {
          "base_uri": "https://localhost:8080/",
          "height": 124
        },
        "id": "9MYWQQg_p_04",
        "outputId": "94dd8691-904f-47d5-8b44-8db98ced4622"
      },
      "source": [
        "pool = tf.nn.max_pool(conv2d, ksize=[1, 2, 2, 1], \n",
        "                      strides=[1, 2, 2, 1], padding='SAME')\n",
        "print(pool.shape)\n",
        "\n",
        "pool_img = np.swapaxes(pool, 0, 3)\n",
        "for i, one_img in enumerate(pool_img):\n",
        "    plt.subplot(1,5,i+1)\n",
        "    plt.imshow(one_img.reshape(7, 7), cmap='gray')"
      ],
      "execution_count": null,
      "outputs": [
        {
          "output_type": "stream",
          "text": [
            "(1, 7, 7, 5)\n"
          ],
          "name": "stdout"
        },
        {
          "output_type": "display_data",
          "data": {
            "image/png": "[encoded data removed]",
            "text/plain": [
              "<Figure size 432x288 with 5 Axes>"
            ]
          },
          "metadata": {
            "tags": [],
            "needs_background": "light"
          }
        }
      ]
    },
    {
      "cell_type": "code",
      "metadata": {
        "id": "qrFqdFB7qBbe"
      },
      "source": [
        ""
      ],
      "execution_count": null,
      "outputs": []
    }
  ]
}