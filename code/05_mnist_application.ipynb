{
  "nbformat": 4,
  "nbformat_minor": 0,
  "metadata": {
    "colab": {
      "name": "05-mnist-application.ipynb",
      "provenance": [],
      "collapsed_sections": [],
      "include_colab_link": true
    },
    "kernelspec": {
      "name": "python3",
      "display_name": "Python 3"
    }
  },
  "cells": [
    {
      "cell_type": "markdown",
      "metadata": {
        "id": "view-in-github",
        "colab_type": "text"
      },
      "source": [
        "<a href=\"https://colab.research.google.com/github/dyong00/2020-2-AI/blob/master/code/05_mnist_application.ipynb\" target=\"_parent\"><img src=\"https://colab.research.google.com/assets/colab-badge.svg\" alt=\"Open In Colab\"/></a>"
      ]
    },
    {
      "cell_type": "code",
      "metadata": {
        "id": "5Cw0H0Dnv5ou",
        "outputId": "d7e6d255-ade6-45b1-d0b9-4666c19566cf",
        "colab": {
          "base_uri": "https://localhost:8080/",
          "height": 35
        }
      },
      "source": [
        "import tensorflow as tf\n",
        "tf.__version__"
      ],
      "execution_count": null,
      "outputs": [
        {
          "output_type": "execute_result",
          "data": {
            "application/vnd.google.colaboratory.intrinsic+json": {
              "type": "string"
            },
            "text/plain": [
              "'2.3.0'"
            ]
          },
          "metadata": {
            "tags": []
          },
          "execution_count": 2
        }
      ]
    },
    {
      "cell_type": "markdown",
      "metadata": {
        "id": "CtSoJCfvwdQm"
      },
      "source": [
        "# MNIST 딥러닝 전 소스"
      ]
    },
    {
      "cell_type": "code",
      "metadata": {
        "id": "FVjoWi8Ubyng",
        "outputId": "2464080e-74ed-4c76-b2e9-c761300d855d",
        "colab": {
          "base_uri": "https://localhost:8080/",
          "height": 530
        }
      },
      "source": [
        "import tensorflow as tf\n",
        "\n",
        "# mnist 모듈 준비\n",
        "mnist = tf.keras.datasets.mnist\n",
        "\n",
        "# MNIST 데이터셋을 훈련과 테스트 데이터로 로드하여 준비\n",
        "(x_train, y_train), (x_test, y_test) = mnist.load_data()\n",
        "\n",
        "# 샘플 값을 정수(0~255)에서 부동소수(0~1)로 변환\n",
        "x_train, x_test = x_train / 255.0, x_test / 255.0\n",
        "\n",
        "# 층을 차례대로 쌓아 tf.keras.Sequential 모델을 생성\n",
        "model = tf.keras.models.Sequential([\n",
        "    tf.keras.layers.Flatten(input_shape=(28, 28)),\n",
        "    tf.keras.layers.Dense(128, activation='relu'),\n",
        "    tf.keras.layers.Dropout(.2),\n",
        "    tf.keras.layers.Dense(10, activation='softmax')\n",
        "])\n",
        "\n",
        "# 훈련에 사용할 옵티마이저(optimizer)와 손실 함수, 출력정보를 선택\n",
        "model.compile(optimizer='adam',\n",
        "              loss='sparse_categorical_crossentropy',\n",
        "              metrics=['accuracy'])\n",
        "\n",
        "# 모델 요약 표시\n",
        "model.summary()\n",
        "\n",
        "# 모델을 훈련 데이터로 총 5번 훈련\n",
        "model.fit(x_train, y_train, epochs=5)\n",
        "\n",
        "# 모델을 테스트 데이터로 평가\n",
        "model.evaluate(x_test, y_test)"
      ],
      "execution_count": null,
      "outputs": [
        {
          "output_type": "stream",
          "text": [
            "Model: \"sequential_1\"\n",
            "_________________________________________________________________\n",
            "Layer (type)                 Output Shape              Param #   \n",
            "=================================================================\n",
            "flatten_1 (Flatten)          (None, 784)               0         \n",
            "_________________________________________________________________\n",
            "dense_2 (Dense)              (None, 128)               100480    \n",
            "_________________________________________________________________\n",
            "dropout_1 (Dropout)          (None, 128)               0         \n",
            "_________________________________________________________________\n",
            "dense_3 (Dense)              (None, 10)                1290      \n",
            "=================================================================\n",
            "Total params: 101,770\n",
            "Trainable params: 101,770\n",
            "Non-trainable params: 0\n",
            "_________________________________________________________________\n",
            "Epoch 1/5\n",
            "1875/1875 [==============================] - 3s 2ms/step - loss: 0.2933 - accuracy: 0.9154\n",
            "Epoch 2/5\n",
            "1875/1875 [==============================] - 3s 2ms/step - loss: 0.1402 - accuracy: 0.9582\n",
            "Epoch 3/5\n",
            "1875/1875 [==============================] - 3s 2ms/step - loss: 0.1058 - accuracy: 0.9672\n",
            "Epoch 4/5\n",
            "1875/1875 [==============================] - 3s 2ms/step - loss: 0.0867 - accuracy: 0.9732\n",
            "Epoch 5/5\n",
            "1875/1875 [==============================] - 3s 2ms/step - loss: 0.0753 - accuracy: 0.9764\n",
            "313/313 [==============================] - 0s 1ms/step - loss: 0.0778 - accuracy: 0.9769\n"
          ],
          "name": "stdout"
        },
        {
          "output_type": "execute_result",
          "data": {
            "text/plain": [
              "[0.07778514921665192, 0.9768999814987183]"
            ]
          },
          "metadata": {
            "tags": []
          },
          "execution_count": 4
        }
      ]
    },
    {
      "cell_type": "markdown",
      "metadata": {
        "id": "f0-GgFiZwpqZ"
      },
      "source": [
        "# MNIST 손글씨 예측과 오류 확인"
      ]
    },
    {
      "cell_type": "code",
      "metadata": {
        "id": "lc8u5dAzb7zH",
        "outputId": "2fe82400-0e96-46c9-861d-1815fcd0f316",
        "colab": {
          "base_uri": "https://localhost:8080/",
          "height": 122
        }
      },
      "source": [
        "# 테스트 데이터의 첫 번째 손글씨 예측 결과를 확인\n",
        "print(x_test[:1].shape)\n",
        "\n",
        "pred_result = model.predict(x_test[:1])\n",
        "print(pred_result.shape)\n",
        "print(pred_result)\n",
        "print(pred_result[0])"
      ],
      "execution_count": null,
      "outputs": [
        {
          "output_type": "stream",
          "text": [
            "(1, 28, 28)\n",
            "(1, 10)\n",
            "[[3.3365970e-07 5.1654374e-09 2.5854590e-06 7.0436008e-04 1.0419379e-11\n",
            "  2.2073232e-07 3.2242641e-13 9.9925238e-01 3.6132769e-06 3.6424830e-05]]\n",
            "[3.3365970e-07 5.1654374e-09 2.5854590e-06 7.0436008e-04 1.0419379e-11\n",
            " 2.2073232e-07 3.2242641e-13 9.9925238e-01 3.6132769e-06 3.6424830e-05]\n"
          ],
          "name": "stdout"
        }
      ]
    },
    {
      "cell_type": "code",
      "metadata": {
        "id": "pZW-XFjKxFSF",
        "outputId": "dfbe24c0-919c-43a3-af78-24611f3d5360",
        "colab": {
          "base_uri": "https://localhost:8080/",
          "height": 52
        }
      },
      "source": [
        "import numpy as np\n",
        "\n",
        "# 10개의 수를 더하면?\n",
        "one_pred = pred_result[0]\n",
        "print(one_pred.sum())\n",
        "\n",
        "# 혹시 가장 큰 수가 있는 첨자가 결과\n",
        "one = np.argmax(one_pred)\n",
        "print(one)"
      ],
      "execution_count": null,
      "outputs": [
        {
          "output_type": "stream",
          "text": [
            "0.99999994\n",
            "7\n"
          ],
          "name": "stdout"
        }
      ]
    },
    {
      "cell_type": "code",
      "metadata": {
        "id": "RiPtwBiFxXVx",
        "outputId": "3c60e0ff-485c-4b6f-9ae6-0eae96a62a6c",
        "colab": {
          "base_uri": "https://localhost:8080/",
          "height": 70
        }
      },
      "source": [
        "import numpy as np\n",
        "\n",
        "# 10개의 수를 더하면?\n",
        "one_pred = pred_result[0]\n",
        "print(tf.reduce_sum(one_pred))\n",
        "print(tf.reduce_sum(one_pred).numpy())\n",
        "\n",
        "# 혹시 가장 큰 수가 있는 첨자가 결과\n",
        "print(tf.argmax(one_pred).numpy())"
      ],
      "execution_count": null,
      "outputs": [
        {
          "output_type": "stream",
          "text": [
            "tf.Tensor(0.99999994, shape=(), dtype=float32)\n",
            "0.99999994\n",
            "7\n"
          ],
          "name": "stdout"
        }
      ]
    },
    {
      "cell_type": "code",
      "metadata": {
        "id": "AEYz0mVCxumk",
        "outputId": "973478c4-8d26-4686-f0d6-b390a808952b",
        "colab": {
          "base_uri": "https://localhost:8080/",
          "height": 70
        }
      },
      "source": [
        "import numpy as np\n",
        "\n",
        "##################################\n",
        "# 원핫 인코딩과 argmax 학습\n",
        "print(np.argmax([5, 4, 10, 1, 2]))\n",
        "print(np.argmax([3, 1, 4, 9, 6, 7, 2]))\n",
        "print(np.argmax([[0.1, 0.8, 0.1], [0.7, 0.2, 0.1], [0.2, 0.1, 0.7]], axis=1))"
      ],
      "execution_count": null,
      "outputs": [
        {
          "output_type": "stream",
          "text": [
            "2\n",
            "3\n",
            "[1 0 2]\n"
          ],
          "name": "stdout"
        }
      ]
    },
    {
      "cell_type": "code",
      "metadata": {
        "id": "qzudYDbK0Zmp",
        "outputId": "74aa99d2-4322-4e25-b405-73b9efe7d1fd",
        "colab": {
          "base_uri": "https://localhost:8080/",
          "height": 70
        }
      },
      "source": [
        "import numpy as np\n",
        "\n",
        "##################################\n",
        "# 원핫 인코딩과 argmax 학습\n",
        "print(tf.argmax([5, 4, 10, 1, 2]))\n",
        "print(tf.argmax([3, 1, 4, 9, 6, 7, 2]))\n",
        "print(tf.argmax([[0.1, 0.8, 0.1], [0.7, 0.2, 0.1], [0.2, 0.1, 0.7]], axis=1))"
      ],
      "execution_count": null,
      "outputs": [
        {
          "output_type": "stream",
          "text": [
            "tf.Tensor(2, shape=(), dtype=int64)\n",
            "tf.Tensor(3, shape=(), dtype=int64)\n",
            "tf.Tensor([1 0 2], shape=(3,), dtype=int64)\n"
          ],
          "name": "stdout"
        }
      ]
    },
    {
      "cell_type": "code",
      "metadata": {
        "id": "7c9Tt1T80g-V",
        "outputId": "ddab6570-ddd0-4d91-f9ef-e6d0cde84e2e",
        "colab": {
          "base_uri": "https://localhost:8080/",
          "height": 262
        }
      },
      "source": [
        "import numpy as np\n",
        "\n",
        "# 10개의 수를 더하면?\n",
        "one_pred = pred_result[0]\n",
        "print(one_pred.sum())\n",
        "\n",
        "# 혹시 가장 큰 수가 있는 첨자가 결과\n",
        "one = np.argmax(one_pred)\n",
        "print(one)\n",
        "\n",
        "import matplotlib.pyplot as plt\n",
        "\n",
        "plt.figure(figsize = (5, 3))\n",
        "tmp = \"Predict: \" + str(one) + \"  Label: \" + str(y_test[0])\n",
        "plt.title(tmp)\n",
        "_ = plt.imshow(x_test[0], cmap=\"Greys\") \n",
        "# _를 쓰면 return값을 받기 때문에 결과값에서 <matplotlib.image.AxesImage at 0x7f6985106780> 이게 안보임.\n",
        "# _ <- 안써도 상관X"
      ],
      "execution_count": null,
      "outputs": [
        {
          "output_type": "stream",
          "text": [
            "1.0\n",
            "4\n"
          ],
          "name": "stdout"
        },
        {
          "output_type": "display_data",
          "data": {
            "image/png": "[encoded data removed]",
            "text/plain": [
              "<Figure size 360x216 with 1 Axes>"
            ]
          },
          "metadata": {
            "tags": [],
            "needs_background": "light"
          }
        }
      ]
    },
    {
      "cell_type": "markdown",
      "metadata": {
        "id": "Z4ySWdZY0aPN"
      },
      "source": [
        "# 활성화 함수 softmax()"
      ]
    },
    {
      "cell_type": "code",
      "metadata": {
        "id": "fuc4tWLx0f7c"
      },
      "source": [
        "# 층을 차례대로 쌓아 tf.keras.models.Sequential 모델을 생성\n",
        "model = tf.keras.models.Sequential ([\n",
        "tf.keras.layers.Flatten(input_shape=(28, 28)),\n",
        "tf.keras.layers.Dense(128, activation = 'relu'),\n",
        "tf.keras.layers.Dropout(0.2),\n",
        "tf.keras.layers.Dense(10, activation='softmax')\n",
        "])                           "
      ],
      "execution_count": null,
      "outputs": []
    },
    {
      "cell_type": "markdown",
      "metadata": {
        "id": "VithT1nH1IY2"
      },
      "source": [
        "# 평탄화 메소드 flatten"
      ]
    },
    {
      "cell_type": "code",
      "metadata": {
        "id": "lecMtBiO1HsN",
        "outputId": "c81c65e5-06aa-45c9-e6c1-d61e6d3f7199",
        "colab": {
          "base_uri": "https://localhost:8080/",
          "height": 87
        }
      },
      "source": [
        "############################################\n",
        "# 간단한 자료 처리\n",
        "import numpy as np\n",
        "\n",
        "x = np.array([2, 3, 254, 5, 6, 3])\n",
        "x = x / 255.0\n",
        "print(x)\n",
        "\n",
        "x = x.reshape(2, 3)\n",
        "print(x)\n",
        "\n",
        "x = x.flatten()\n",
        "print(x)"
      ],
      "execution_count": null,
      "outputs": [
        {
          "output_type": "stream",
          "text": [
            "[0.00784314 0.01176471 0.99607843 0.01960784 0.02352941 0.01176471]\n",
            "[[0.00784314 0.01176471 0.99607843]\n",
            " [0.01960784 0.02352941 0.01176471]]\n",
            "[0.00784314 0.01176471 0.99607843 0.01960784 0.02352941 0.01176471]\n"
          ],
          "name": "stdout"
        }
      ]
    },
    {
      "cell_type": "markdown",
      "metadata": {
        "id": "znZYd4Aa1agJ"
      },
      "source": [
        "# tf.keras.layers.Dropout()"
      ]
    },
    {
      "cell_type": "code",
      "metadata": {
        "id": "5EvBjYhb1dok",
        "outputId": "fb18a65a-f489-4c13-917a-3d3eb4547003",
        "colab": {
          "base_uri": "https://localhost:8080/",
          "height": 122
        }
      },
      "source": [
        "data = np.arange(1, 11).reshape(5, 2).astype(np.float32)\n",
        "print(data)\n",
        "np.sum(data)"
      ],
      "execution_count": null,
      "outputs": [
        {
          "output_type": "stream",
          "text": [
            "[[ 1.  2.]\n",
            " [ 3.  4.]\n",
            " [ 5.  6.]\n",
            " [ 7.  8.]\n",
            " [ 9. 10.]]\n"
          ],
          "name": "stdout"
        },
        {
          "output_type": "execute_result",
          "data": {
            "text/plain": [
              "55.0"
            ]
          },
          "metadata": {
            "tags": []
          },
          "execution_count": 9
        }
      ]
    },
    {
      "cell_type": "code",
      "metadata": {
        "id": "gyqbr-hQ1mXC",
        "outputId": "cd3586d4-0091-417b-eca3-c930ad802b80",
        "colab": {
          "base_uri": "https://localhost:8080/",
          "height": 140
        }
      },
      "source": [
        "tf.random.set_seed(0)\n",
        "# layer = tf.keras.layers.Dropout(.2, input_shape=(2,))\n",
        "layer = tf.keras.layers.Dropout(.3, input_shape=(2,))\n",
        "outputs = layer(data, training=True)\n",
        "#outputs = layer(data, training=false)\n",
        "print(outputs)\n",
        "np.sum(outputs)"
      ],
      "execution_count": null,
      "outputs": [
        {
          "output_type": "stream",
          "text": [
            "tf.Tensor(\n",
            "[[ 0.         0.       ]\n",
            " [ 4.285714   5.714286 ]\n",
            " [ 7.1428576  8.571428 ]\n",
            " [10.        11.428572 ]\n",
            " [12.857143   0.       ]], shape=(5, 2), dtype=float32)\n"
          ],
          "name": "stdout"
        },
        {
          "output_type": "execute_result",
          "data": {
            "text/plain": [
              "60.0"
            ]
          },
          "metadata": {
            "tags": []
          },
          "execution_count": 12
        }
      ]
    },
    {
      "cell_type": "markdown",
      "metadata": {
        "id": "G9V_9Ede2pRV"
      },
      "source": [
        "# 테스트 데이터 모두 예측해 보기"
      ]
    },
    {
      "cell_type": "code",
      "metadata": {
        "id": "b5V-wU9c2rnM",
        "outputId": "80798bc7-e53e-47cc-e120-d33783e5e0a1",
        "colab": {
          "base_uri": "https://localhost:8080/",
          "height": 122
        }
      },
      "source": [
        "from random import sample\n",
        "import numpy as np\n",
        "\n",
        "# x_test로 직접 결과 처리\n",
        "pred_result = model.predict(x_test)\n",
        "print(pred_result.shape)\n",
        "print(pred_result[0])\n",
        "print(np.argmax(pred_result[0]))\n",
        "\n",
        "# 원핫 인코딩을 일반 데이터로 변환\n",
        "pred_labels = np.argmax(pred_result, axis=1)\n",
        "# 예측한 답 출력\n",
        "print(pred_labels)\n",
        "# 실제 정답 출력\n",
        "print(y_test)\n",
        "####################################################"
      ],
      "execution_count": null,
      "outputs": [
        {
          "output_type": "stream",
          "text": [
            "(10000, 10)\n",
            "[0.05913061 0.08965117 0.08405322 0.10505795 0.17425375 0.09726635\n",
            " 0.0829658  0.10948665 0.09904306 0.09909144]\n",
            "4\n",
            "[4 4 4 ... 1 7 7]\n",
            "[7 2 1 ... 4 5 6]\n"
          ],
          "name": "stdout"
        }
      ]
    },
    {
      "cell_type": "markdown",
      "metadata": {
        "id": "g7LTFMRQy5kR"
      },
      "source": [
        "# 임의의 20개 예측 값과 정답 그리기"
      ]
    },
    {
      "cell_type": "code",
      "metadata": {
        "id": "SUvM3ALq6SYp",
        "outputId": "c29930e8-780a-4a25-d6a4-afcfd575439a",
        "colab": {
          "base_uri": "https://localhost:8080/",
          "height": 609
        }
      },
      "source": [
        "################################################\n",
        "from random import sample\n",
        "import numpy as np\n",
        "\n",
        "# 예측한 softmax의 확률이 있는 리스트 pred_result\n",
        "pred_result = model.predict(x_test)\n",
        "\n",
        "# 실제 예측한 정답이 있는 리스트 pred_labels\n",
        "pred_labels = np.argmax(pred_result, axis=1)\n",
        "\n",
        "# 랜덤하게 20개의 훈련용 자료를 예측값과 정답, 그림을 그려 보자.\n",
        "nrows, ncols = 5, 4  # 출력 가로 세로 수\n",
        "samples = sorted(sample(range(len(x_test)), nrows * ncols))  # 출력할 첨자 선정\n",
        "\n",
        "# 임의의 20개 그리기\n",
        "count = 0\n",
        "nrows, ncols = 5, 4\n",
        "plt.figure(figsize = (12, 10))\n",
        "for n in samples:\n",
        "  count += 1\n",
        "  plt.subplot(nrows, ncols, count)\n",
        "  # 예측이 틀린 것은 파란색으로 그리기\n",
        "  cmap = 'Greys' if ( pred_labels[n] == y_test[n] ) else 'Blues'\n",
        "  plt.imshow(x_test[n].reshape(28, 28), cmap=cmap, interpolation='nearest')\n",
        "  tmp = \"Lables:\" + str(y_test[n]) + \", Prediction:\" + str(pred_labels[n])\n",
        "  plt.title(tmp)\n",
        "\n",
        "plt.tight_layout()\n",
        "plt.show()\n",
        "#####################################################"
      ],
      "execution_count": null,
      "outputs": [
        {
          "output_type": "display_data",
          "data": {
            "image/png": "[encoded data removed]",
            "text/plain": [
              "<Figure size 864x720 with 20 Axes>"
            ]
          },
          "metadata": {
            "tags": [],
            "needs_background": "light"
          }
        }
      ]
    },
    {
      "cell_type": "markdown",
      "metadata": {
        "id": "uE48dPB56GrQ"
      },
      "source": [
        "# 예측이 잘못된 20개 그리기 소스"
      ]
    },
    {
      "cell_type": "code",
      "metadata": {
        "id": "k2cO8PRhz8Tu",
        "outputId": "379a6f7c-da7b-430d-cf63-3f1d5d39e882",
        "colab": {
          "base_uri": "https://localhost:8080/",
          "height": 668
        }
      },
      "source": [
        "from random import sample\n",
        "import numpy as np\n",
        "\n",
        "##########################################\n",
        "# 예측 틀린 것 첨자를 저장할 리스트\n",
        "mispred = []\n",
        "# 예측한 softmax의 확률이 있는 리스트 pred_result\n",
        "pred_result = model.predict(x_test)\n",
        "\n",
        "# 실제 예측한 정답이 있는 리스트 pred_labels\n",
        "pred_labels = np.argmax(pred_result, axis=1)\n",
        "\n",
        "for n in range(0, len(y_test)):\n",
        "  if pred_labels[n] != y_test[n]:\n",
        "    mispred.append(n)\n",
        "print('정답이 틀린 수', len(mispred))\n",
        "\n",
        "# 랜덤하게 틀린 것 20개의 첨자 리스트 생성\n",
        "samples = sample(mispred, 20)\n",
        "print(samples)\n",
        "\n",
        "# 틀린 것 20개 그리기\n",
        "count = 0\n",
        "plt.figure(figsize=(12, 10))\n",
        "for n in samples:\n",
        "  count += 1\n",
        "  plt.subplot(nrows, ncols, count)\n",
        "  plt.imshow(x_test[n].reshape(28, 28), cmap='Greys', interpolation='nearest')\n",
        "  tmp = \"Label:\" + str(y_test[n]) + \", Prediction:\" + str(pred_labels[n])\n",
        "  plt.title(tmp)\n",
        "\n",
        "plt.tight_layout()\n",
        "plt.show()\n",
        "#############################################"
      ],
      "execution_count": null,
      "outputs": [
        {
          "output_type": "stream",
          "text": [
            "정답이 틀린 수 9603\n",
            "[2439, 1137, 5802, 2384, 8256, 45, 4396, 5507, 8412, 193, 1549, 9610, 6028, 3290, 8437, 5770, 9465, 1427, 5624, 1570]\n"
          ],
          "name": "stdout"
        },
        {
          "output_type": "display_data",
          "data": {
            "image/png": "[encoded data removed]",
            "text/plain": [
              "<Figure size 864x720 with 20 Axes>"
            ]
          },
          "metadata": {
            "tags": [],
            "needs_background": "light"
          }
        }
      ]
    },
    {
      "cell_type": "code",
      "metadata": {
        "id": "AuRitojV7Ss5"
      },
      "source": [
        "#  약 98% 이상 정답 예측"
      ],
      "execution_count": null,
      "outputs": []
    },
    {
      "cell_type": "code",
      "metadata": {
        "id": "EXIIQQB_H2wg",
        "outputId": "9c22622c-c0fd-4161-915c-c4deea4a9b96",
        "colab": {
          "base_uri": "https://localhost:8080/",
          "height": 1000
        }
      },
      "source": [
        "######################################################3\n",
        "import tensorflow as tf\n",
        "\n",
        "# mnist 모듈 준비\n",
        "mnist = tf.keras.datasets.mnist\n",
        "# MNIST 데이터셋을 훈련과 테스트 데이터로 로드하여 준비\n",
        "(x_train, y_train), (x_test, y_test) = mnist.load_data()\n",
        "# 샘플 값을 정수(0~255)에서 부동소수(0~1)로 변환\n",
        "x_train, x_test = x_train/255.0, x_test/255.0\n",
        "\n",
        "# 층을 차례대로 쌓아 tf.keras.Sequential 모델을 생성\n",
        "model = tf.keras.models.Sequential([\n",
        "    tf.keras.layers.Flatten(input_shape=(28, 28)),\n",
        "    tf.keras.layers.Dense(128, activation='relu'),\n",
        "    tf.keras.layers.Dropout(.2),\n",
        "    tf.keras.layers.Dense(64, activation='relu'),\n",
        "    tf.keras.layers.Dropout(.2),\n",
        "    tf.keras.layers.Dense(10, activation='softmax')\n",
        "])\n",
        "\n",
        "# 훈련에 사용할 옵티마이저(optimizer)와 손실 함수, 출력정보를 선택\n",
        "model.compile(optimizer='adam', loss='sparse_categorical_crossentropy', metrics=['accuracy'])\n",
        "\n",
        "# 모델 요약 표시\n",
        "model.summary()\n",
        "# 모델을 훈련 데이터로 총 20번 훈련\n",
        "model.fit(x_train, y_train, epochs=20)\n",
        "# 모델을 테스트 데이터로 평가\n",
        "model.evaluate(x_test, y_test)"
      ],
      "execution_count": null,
      "outputs": [
        {
          "output_type": "stream",
          "text": [
            "Model: \"sequential_9\"\n",
            "_________________________________________________________________\n",
            "Layer (type)                 Output Shape              Param #   \n",
            "=================================================================\n",
            "flatten_9 (Flatten)          (None, 784)               0         \n",
            "_________________________________________________________________\n",
            "dense_22 (Dense)             (None, 128)               100480    \n",
            "_________________________________________________________________\n",
            "dropout_14 (Dropout)         (None, 128)               0         \n",
            "_________________________________________________________________\n",
            "dense_23 (Dense)             (None, 64)                8256      \n",
            "_________________________________________________________________\n",
            "dropout_15 (Dropout)         (None, 64)                0         \n",
            "_________________________________________________________________\n",
            "dense_24 (Dense)             (None, 10)                650       \n",
            "=================================================================\n",
            "Total params: 109,386\n",
            "Trainable params: 109,386\n",
            "Non-trainable params: 0\n",
            "_________________________________________________________________\n",
            "Epoch 1/20\n",
            "1875/1875 [==============================] - 4s 2ms/step - loss: 0.3371 - accuracy: 0.8987\n",
            "Epoch 2/20\n",
            "1875/1875 [==============================] - 4s 2ms/step - loss: 0.1611 - accuracy: 0.9516\n",
            "Epoch 3/20\n",
            "1875/1875 [==============================] - 4s 2ms/step - loss: 0.1250 - accuracy: 0.9624\n",
            "Epoch 4/20\n",
            "1875/1875 [==============================] - 4s 2ms/step - loss: 0.1082 - accuracy: 0.9673\n",
            "Epoch 5/20\n",
            "1875/1875 [==============================] - 4s 2ms/step - loss: 0.0945 - accuracy: 0.9714\n",
            "Epoch 6/20\n",
            "1875/1875 [==============================] - 4s 2ms/step - loss: 0.0849 - accuracy: 0.9729\n",
            "Epoch 7/20\n",
            "1875/1875 [==============================] - 4s 2ms/step - loss: 0.0775 - accuracy: 0.9756\n",
            "Epoch 8/20\n",
            "1875/1875 [==============================] - 4s 2ms/step - loss: 0.0697 - accuracy: 0.9782\n",
            "Epoch 9/20\n",
            "1875/1875 [==============================] - 4s 2ms/step - loss: 0.0675 - accuracy: 0.9777\n",
            "Epoch 10/20\n",
            "1875/1875 [==============================] - 4s 2ms/step - loss: 0.0629 - accuracy: 0.9804\n",
            "Epoch 11/20\n",
            "1875/1875 [==============================] - 4s 2ms/step - loss: 0.0580 - accuracy: 0.9816\n",
            "Epoch 12/20\n",
            "1875/1875 [==============================] - 4s 2ms/step - loss: 0.0587 - accuracy: 0.9814\n",
            "Epoch 13/20\n",
            "1875/1875 [==============================] - 4s 2ms/step - loss: 0.0528 - accuracy: 0.9829\n",
            "Epoch 14/20\n",
            "1875/1875 [==============================] - 4s 2ms/step - loss: 0.0510 - accuracy: 0.9836\n",
            "Epoch 15/20\n",
            "1875/1875 [==============================] - 4s 2ms/step - loss: 0.0496 - accuracy: 0.9839\n",
            "Epoch 16/20\n",
            "1875/1875 [==============================] - 4s 2ms/step - loss: 0.0489 - accuracy: 0.9844\n",
            "Epoch 17/20\n",
            "1875/1875 [==============================] - 4s 2ms/step - loss: 0.0461 - accuracy: 0.9844\n",
            "Epoch 18/20\n",
            "1875/1875 [==============================] - 4s 2ms/step - loss: 0.0426 - accuracy: 0.9861\n",
            "Epoch 19/20\n",
            "1875/1875 [==============================] - 4s 2ms/step - loss: 0.0439 - accuracy: 0.9858\n",
            "Epoch 20/20\n",
            "1875/1875 [==============================] - 4s 2ms/step - loss: 0.0404 - accuracy: 0.9864\n",
            "313/313 [==============================] - 0s 1ms/step - loss: 0.0856 - accuracy: 0.9813\n"
          ],
          "name": "stdout"
        },
        {
          "output_type": "execute_result",
          "data": {
            "text/plain": [
              "[0.08556966483592987, 0.9812999963760376]"
            ]
          },
          "metadata": {
            "tags": []
          },
          "execution_count": 33
        }
      ]
    },
    {
      "cell_type": "markdown",
      "metadata": {
        "id": "zMNRIMbnJxzd"
      },
      "source": [
        "# 메소드 flatten() 미사용"
      ]
    },
    {
      "cell_type": "code",
      "metadata": {
        "id": "Rpns121-JR7T",
        "outputId": "4e97410f-f62b-47b9-d379-393d10b2dd0f",
        "colab": {
          "base_uri": "https://localhost:8080/",
          "height": 494
        }
      },
      "source": [
        "import tensorflow as tf\n",
        "\n",
        "mnist = tf.keras.datasets.mnist\n",
        "(x_train, y_train), (x_test, y_test) = mnist.load_data()\n",
        "# 샘플 값을 정수(0~255)에서 부동소수(0~1)로 변환\n",
        "x_train, x_test = x_train/255.0, x_test/255.0\n",
        "# 먼저 reshape()로 평탄화 작업을 수행한 후\n",
        "x_train = x_train.reshape((60000, 28*28))\n",
        "x_test = x_test.reshape((10000, 28*28))\n",
        "\n",
        "# 층을 차례대로 쌓아 tf.keras.Sequential 모델을 생성\n",
        "model = tf.keras.models.Sequential([\n",
        "    #tf.keras.layers.Flatten(input_shape=(28, 28)),\n",
        "    tf.keras.layers.Dense(128, activation='relu', input_shape=(28*28,)),\n",
        "    tf.keras.layers.Dropout(0.2),\n",
        "    tf.keras.layers.Dense(10, activation='softmax')\n",
        "])\n",
        "\n",
        "# 모델 요약 표시\n",
        "model.summary()\n",
        "\n",
        "# 훈련에 사용할 옵티마이저(optimizer)와 손실 함수, 출력정보를 선택\n",
        "model.compile(optimizer='adam',\n",
        "              loss='sparse_categorical_crossentropy',\n",
        "              metrics=['accuracy'])\n",
        "              #metrics=['accuracy', 'mse'])\n",
        "\n",
        "# 모델을 훈련 데이터로 총 5번 훈련\n",
        "model.fit(x_train, y_train, epochs=5)\n",
        "# 모델을 테스트 데이터로 평가\n",
        "model.evaluate(x_test, y_test)"
      ],
      "execution_count": null,
      "outputs": [
        {
          "output_type": "stream",
          "text": [
            "Model: \"sequential_10\"\n",
            "_________________________________________________________________\n",
            "Layer (type)                 Output Shape              Param #   \n",
            "=================================================================\n",
            "dense_25 (Dense)             (None, 128)               100480    \n",
            "_________________________________________________________________\n",
            "dropout_16 (Dropout)         (None, 128)               0         \n",
            "_________________________________________________________________\n",
            "dense_26 (Dense)             (None, 10)                1290      \n",
            "=================================================================\n",
            "Total params: 101,770\n",
            "Trainable params: 101,770\n",
            "Non-trainable params: 0\n",
            "_________________________________________________________________\n",
            "Epoch 1/5\n",
            "1875/1875 [==============================] - 3s 2ms/step - loss: 0.2942 - accuracy: 0.9143\n",
            "Epoch 2/5\n",
            "1875/1875 [==============================] - 3s 2ms/step - loss: 0.1408 - accuracy: 0.9590\n",
            "Epoch 3/5\n",
            "1875/1875 [==============================] - 3s 2ms/step - loss: 0.1061 - accuracy: 0.9677\n",
            "Epoch 4/5\n",
            "1875/1875 [==============================] - 3s 2ms/step - loss: 0.0864 - accuracy: 0.9740\n",
            "Epoch 5/5\n",
            "1875/1875 [==============================] - 3s 2ms/step - loss: 0.0753 - accuracy: 0.9765\n",
            "313/313 [==============================] - 0s 1ms/step - loss: 0.0748 - accuracy: 0.9775\n"
          ],
          "name": "stdout"
        },
        {
          "output_type": "execute_result",
          "data": {
            "text/plain": [
              "[0.07484620809555054, 0.9775000214576721]"
            ]
          },
          "metadata": {
            "tags": []
          },
          "execution_count": 35
        }
      ]
    },
    {
      "cell_type": "code",
      "metadata": {
        "id": "P32Bp63wKsVV"
      },
      "source": [
        ""
      ],
      "execution_count": null,
      "outputs": []
    }
  ]
}