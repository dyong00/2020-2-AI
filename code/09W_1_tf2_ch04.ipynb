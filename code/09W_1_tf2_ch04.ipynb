{
  "nbformat": 4,
  "nbformat_minor": 0,
  "metadata": {
    "colab": {
      "name": "09W-1-tf2-ch04.ipynb",
      "provenance": [],
      "collapsed_sections": [],
      "include_colab_link": true
    },
    "kernelspec": {
      "name": "python3",
      "display_name": "Python 3"
    }
  },
  "cells": [
    {
      "cell_type": "markdown",
      "metadata": {
        "id": "view-in-github",
        "colab_type": "text"
      },
      "source": [
        "<a href=\"https://colab.research.google.com/github/dyong00/2020-2-AI/blob/master/code/09W_1_tf2_ch04.ipynb\" target=\"_parent\"><img src=\"https://colab.research.google.com/assets/colab-badge.svg\" alt=\"Open In Colab\"/></a>"
      ]
    },
    {
      "cell_type": "markdown",
      "metadata": {
        "id": "bBqYQPWQbnpA"
      },
      "source": [
        "# 활성화 함수 tanh"
      ]
    },
    {
      "cell_type": "code",
      "metadata": {
        "colab": {
          "base_uri": "https://localhost:8080/",
          "height": 374
        },
        "id": "A0gVF6Dnbs9-",
        "outputId": "da817e58-b203-46d9-c8d6-e5066e2ae648"
      },
      "source": [
        "import math\n",
        "import numpy as np\n",
        "import matplotlib.pyplot as plt\n",
        "\n",
        "def sigmoid(x):\n",
        "    return 1 / (1 + math.exp(-x))\n",
        "\n",
        "x = np.arange(-6, 6, 0.01)\n",
        "sigmoid_x = [sigmoid(z) for z in x]\n",
        "tanh_x = [math.tanh(z) for z in x]\n",
        "\n",
        "plt.figure(figsize=(8, 6)) \n",
        "\n",
        "plt.axhline(0, color='gray')\n",
        "plt.axvline(0, color='gray')\n",
        "plt.plot(x, sigmoid_x, 'b-', label='sigmoid')\n",
        "plt.plot(x, tanh_x, 'r--', label='tanh')\n",
        "plt.legend()\n",
        "plt.show()"
      ],
      "execution_count": null,
      "outputs": [
        {
          "output_type": "display_data",
          "data": {
            "image/png": "[encoded data removed]",
            "text/plain": [
              "<Figure size 576x432 with 1 Axes>"
            ]
          },
          "metadata": {
            "tags": [],
            "needs_background": "light"
          }
        }
      ]
    },
    {
      "cell_type": "markdown",
      "metadata": {
        "id": "z2VRAGbGH4JV"
      },
      "source": [
        "# 인구증가율과 고령인구비율 회귀 분석"
      ]
    },
    {
      "cell_type": "code",
      "metadata": {
        "id": "92mjI1W9Hrzn",
        "colab": {
          "base_uri": "https://localhost:8080/"
        },
        "outputId": "5f5cd066-49db-4ce8-ee21-adafaa400d2b"
      },
      "source": [
        "import tensorflow as tf\n",
        "import numpy as np\n",
        "\n",
        "# 인구증가율과 고령인구비율\n",
        "X = [0.3, -0.78, 1.26, 0.03, 1.11, 0.24, -0.24, -0.47,\n",
        "     -0.77, -0.37, -0.85, -0.41, -0.27, 0.02, -0.76, 2.66]\n",
        "Y = [12.27, 14.44, 11.87, 18.75, 17.52, 16.37, 19.78, 19.51,\n",
        "     12.65, 14.74, 10.72, 21.94, 12.83, 15.51, 17.14, 14.42]\n",
        "\n",
        "model = tf.keras.Sequential([\n",
        "    tf.keras.layers.Dense(units=6, activation='tanh', input_shape=(1,)),\n",
        "    tf.keras.layers.Dense(units=1)\n",
        "\n",
        "])\n",
        "\n",
        "model.compile(optimizer=tf.keras.optimizers.SGD(lr=0.1), loss='mse')\n",
        "model.summary()"
      ],
      "execution_count": null,
      "outputs": [
        {
          "output_type": "stream",
          "text": [
            "Model: \"sequential_2\"\n",
            "_________________________________________________________________\n",
            "Layer (type)                 Output Shape              Param #   \n",
            "=================================================================\n",
            "dense_4 (Dense)              (None, 6)                 12        \n",
            "_________________________________________________________________\n",
            "dense_5 (Dense)              (None, 1)                 7         \n",
            "=================================================================\n",
            "Total params: 19\n",
            "Trainable params: 19\n",
            "Non-trainable params: 0\n",
            "_________________________________________________________________\n"
          ],
          "name": "stdout"
        }
      ]
    },
    {
      "cell_type": "code",
      "metadata": {
        "id": "T_Zil-3oUotk",
        "colab": {
          "base_uri": "https://localhost:8080/"
        },
        "outputId": "b41c993c-4bf9-4758-e786-20d93854f658"
      },
      "source": [
        "# 딥러닝 네트워크의 학습\n",
        "model.fit(X, Y, epochs=10)"
      ],
      "execution_count": null,
      "outputs": [
        {
          "output_type": "stream",
          "text": [
            "Epoch 1/10\n",
            "1/1 [==============================] - 0s 2ms/step - loss: 257.7682\n",
            "Epoch 2/10\n",
            "1/1 [==============================] - 0s 1ms/step - loss: 107.8104\n",
            "Epoch 3/10\n",
            "1/1 [==============================] - 0s 1ms/step - loss: 10.7067\n",
            "Epoch 4/10\n",
            "1/1 [==============================] - 0s 1ms/step - loss: 9.8267\n",
            "Epoch 5/10\n",
            "1/1 [==============================] - 0s 5ms/step - loss: 9.7710\n",
            "Epoch 6/10\n",
            "1/1 [==============================] - 0s 1ms/step - loss: 9.7388\n",
            "Epoch 7/10\n",
            "1/1 [==============================] - 0s 1ms/step - loss: 9.7069\n",
            "Epoch 8/10\n",
            "1/1 [==============================] - 0s 2ms/step - loss: 9.6762\n",
            "Epoch 9/10\n",
            "1/1 [==============================] - 0s 1ms/step - loss: 9.6493\n",
            "Epoch 10/10\n",
            "1/1 [==============================] - 0s 2ms/step - loss: 9.6284\n"
          ],
          "name": "stdout"
        },
        {
          "output_type": "execute_result",
          "data": {
            "text/plain": [
              "<tensorflow.python.keras.callbacks.History at 0x7ffa7e258e10>"
            ]
          },
          "metadata": {
            "tags": []
          },
          "execution_count": 9
        }
      ]
    },
    {
      "cell_type": "code",
      "metadata": {
        "id": "QftyBh-4UsRt",
        "colab": {
          "base_uri": "https://localhost:8080/"
        },
        "outputId": "a5112af7-6909-4db4-8d87-5622b766eb0d"
      },
      "source": [
        "# 딥러닝 네트워크의 Y값 예측\n",
        "model.predict(X)"
      ],
      "execution_count": null,
      "outputs": [
        {
          "output_type": "execute_result",
          "data": {
            "text/plain": [
              "array([[15.758104],\n",
              "       [15.72765 ],\n",
              "       [15.481655],\n",
              "       [15.791122],\n",
              "       [15.541275],\n",
              "       [15.767374],\n",
              "       [15.799404],\n",
              "       [15.784134],\n",
              "       [15.730146],\n",
              "       [15.793442],\n",
              "       [15.708864],\n",
              "       [15.79022 ],\n",
              "       [15.798628],\n",
              "       [15.791895],\n",
              "       [15.732597],\n",
              "       [14.350519]], dtype=float32)"
            ]
          },
          "metadata": {
            "tags": []
          },
          "execution_count": 10
        }
      ]
    },
    {
      "cell_type": "markdown",
      "metadata": {
        "id": "3BwJPP69IiOW"
      },
      "source": [
        "# 활성화 함수 tanh"
      ]
    },
    {
      "cell_type": "code",
      "metadata": {
        "id": "579rO790IYj8",
        "colab": {
          "base_uri": "https://localhost:8080/",
          "height": 279
        },
        "outputId": "a34675f1-02c7-4cb4-fb93-4430b5de8a6e"
      },
      "source": [
        "# 딥러닝 네트워크의 회귀선 확인\n",
        "import matplotlib.pyplot as plt\n",
        "\n",
        "line_x = np.arange(min(X), max(X), 0.01)\n",
        "line_y = model.predict(line_x)\n",
        "\n",
        "plt.plot(line_x, line_y, 'r-')\n",
        "plt.plot(X, Y, 'bo')\n",
        "\n",
        "plt.xlabel('Population Growth Rate (%)')\n",
        "plt.ylabel('Elderly Population Rate (%)')\n",
        "plt.show()"
      ],
      "execution_count": null,
      "outputs": [
        {
          "output_type": "display_data",
          "data": {
            "image/png": "[encoded data removed]",
            "text/plain": [
              "<Figure size 432x288 with 1 Axes>"
            ]
          },
          "metadata": {
            "tags": [],
            "needs_background": "light"
          }
        }
      ]
    },
    {
      "cell_type": "code",
      "metadata": {
        "id": "f4s7iXNpJWAm",
        "colab": {
          "base_uri": "https://localhost:8080/",
          "height": 279
        },
        "outputId": "e178125f-f31f-4a61-8786-aef88a545981"
      },
      "source": [
        "import matplotlib.pyplot as plt\n",
        "\n",
        "line_x = np.arange(min(x), max(x), 0.01)\n",
        "line_y = model.predict(line_x)\n",
        "\n",
        "plt.plot(line_x, line_y, 'r-')\n",
        "plt.plot(x, y, 'bo')\n",
        "\n",
        "plt.xlabel('Population Growth Rate (%)')\n",
        "plt.ylabel('Elderly Population Rate (%)')\n",
        "plt.show()"
      ],
      "execution_count": null,
      "outputs": [
        {
          "output_type": "display_data",
          "data": {
            "image/png": "[encoded data removed]",
            "text/plain": [
              "<Figure size 432x288 with 1 Axes>"
            ]
          },
          "metadata": {
            "tags": [],
            "needs_background": "light"
          }
        }
      ]
    },
    {
      "cell_type": "markdown",
      "metadata": {
        "id": "Yl-JOe3GctEx"
      },
      "source": [
        "# 보스턴 주택 가격 데이터세트(Boston Housing Dataset)"
      ]
    },
    {
      "cell_type": "code",
      "metadata": {
        "colab": {
          "base_uri": "https://localhost:8080/",
          "height": 374
        },
        "id": "XwwhjGaecwEU",
        "outputId": "1a36114f-ef14-4ebe-f77f-8fe15f03655a"
      },
      "source": [
        "# 활성화 함수\n",
        "import math\n",
        "def sigmoid(x):\n",
        "    return 1 / (1 + math.exp(-x))\n",
        "\n",
        "x = np.arange(-5, 5, 0.01)\n",
        "sigmoid_x = [sigmoid(z) for z in x]\n",
        "tanh_x = [math.tanh(z) for z in x]\n",
        "relu = [0 if z < 0 else z for z in x]\n",
        "\n",
        "plt.figure(figsize=(8, 6)) \n",
        "\n",
        "plt.axhline(0, color='gray')\n",
        "plt.axvline(0, color='gray')\n",
        "plt.plot(x, sigmoid_x, 'b-', label='sigmoid')\n",
        "plt.plot(x, tanh_x, 'r--', label='tanh')\n",
        "plt.plot(x, relu, 'g.', label='relu')\n",
        "plt.legend()\n",
        "plt.show()"
      ],
      "execution_count": null,
      "outputs": [
        {
          "output_type": "display_data",
          "data": {
            "image/png": "[encoded data removed]",
            "text/plain": [
              "<Figure size 576x432 with 1 Axes>"
            ]
          },
          "metadata": {
            "tags": [],
            "needs_background": "light"
          }
        }
      ]
    },
    {
      "cell_type": "code",
      "metadata": {
        "colab": {
          "base_uri": "https://localhost:8080/"
        },
        "id": "CdOjYpcNc0Jo",
        "outputId": "ebbd8a42-9851-4927-c54f-e0858f28c729"
      },
      "source": [
        "# 데이터 불러오기\n",
        "from tensorflow.keras.datasets import boston_housing\n",
        "(train_X, train_Y), (test_X, test_Y) = boston_housing.load_data()\n",
        "\n",
        "print(train_X.shape, test_X.shape)\n",
        "print(train_X[0])\n",
        "print(train_Y[0])"
      ],
      "execution_count": null,
      "outputs": [
        {
          "output_type": "stream",
          "text": [
            "Downloading data from https://storage.googleapis.com/tensorflow/tf-keras-datasets/boston_housing.npz\n",
            "57344/57026 [==============================] - 0s 0us/step\n",
            "(404, 13) (102, 13)\n",
            "[  1.23247   0.        8.14      0.        0.538     6.142    91.7\n",
            "   3.9769    4.      307.       21.      396.9      18.72   ]\n",
            "15.2\n"
          ],
          "name": "stdout"
        }
      ]
    },
    {
      "cell_type": "code",
      "metadata": {
        "colab": {
          "base_uri": "https://localhost:8080/"
        },
        "id": "s2INl2Blc4rm",
        "outputId": "5aad430f-996c-435c-c4de-5c9fc8f5a930"
      },
      "source": [
        "# 데이터 전처리(정규화)\n",
        "x_mean = train_X.mean(axis=0)\n",
        "x_std = train_X.std(axis=0)\n",
        "train_X -= x_mean\n",
        "train_X /= x_std\n",
        "test_X -= x_mean\n",
        "test_X /= x_std\n",
        "\n",
        "y_mean = train_Y.mean(axis=0)\n",
        "y_std = train_Y.std(axis=0)\n",
        "train_Y -= y_mean\n",
        "train_Y /= y_std\n",
        "test_Y -= y_mean\n",
        "test_Y /= y_std\n",
        "\n",
        "print(train_X[0])\n",
        "print(train_Y[0])"
      ],
      "execution_count": null,
      "outputs": [
        {
          "output_type": "stream",
          "text": [
            "[-0.27224633 -0.48361547 -0.43576161 -0.25683275 -0.1652266  -0.1764426\n",
            "  0.81306188  0.1166983  -0.62624905 -0.59517003  1.14850044  0.44807713\n",
            "  0.8252202 ]\n",
            "-0.7821526033779157\n"
          ],
          "name": "stdout"
        }
      ]
    },
    {
      "cell_type": "code",
      "metadata": {
        "colab": {
          "base_uri": "https://localhost:8080/"
        },
        "id": "mnKKgq8wc9Pb",
        "outputId": "6c68a555-c0cb-4252-815d-0a10f0f7a2a1"
      },
      "source": [
        "# Boston Housing Dataset 회귀 모델 생성\n",
        "model = tf.keras.models.Sequential([\n",
        "    tf.keras.layers.Dense(units=52, activation='relu', input_shape=(13,)),\n",
        "    tf.keras.layers.Dense(units=39, activation='relu'),\n",
        "    tf.keras.layers.Dense(units=26, activation='relu'),\n",
        "    tf.keras.layers.Dense(units=1)\n",
        "])\n",
        "\n",
        "model.compile(optimizer=tf.keras.optimizers.Adam(lr=0.07), loss='mse')\n",
        "\n",
        "model.summary()"
      ],
      "execution_count": null,
      "outputs": [
        {
          "output_type": "stream",
          "text": [
            "Model: \"sequential_3\"\n",
            "_________________________________________________________________\n",
            "Layer (type)                 Output Shape              Param #   \n",
            "=================================================================\n",
            "dense_6 (Dense)              (None, 52)                728       \n",
            "_________________________________________________________________\n",
            "dense_7 (Dense)              (None, 39)                2067      \n",
            "_________________________________________________________________\n",
            "dense_8 (Dense)              (None, 26)                1040      \n",
            "_________________________________________________________________\n",
            "dense_9 (Dense)              (None, 1)                 27        \n",
            "=================================================================\n",
            "Total params: 3,862\n",
            "Trainable params: 3,862\n",
            "Non-trainable params: 0\n",
            "_________________________________________________________________\n"
          ],
          "name": "stdout"
        }
      ]
    },
    {
      "cell_type": "code",
      "metadata": {
        "colab": {
          "base_uri": "https://localhost:8080/"
        },
        "id": "d3v33lf0dA3x",
        "outputId": "ee490b82-7ef6-48c2-e6e7-fb4b769c5a59"
      },
      "source": [
        "# 회귀 모델 학습\n",
        "history = model.fit(train_X, train_Y, epochs=25, batch_size=32, validation_split=0.25)"
      ],
      "execution_count": null,
      "outputs": [
        {
          "output_type": "stream",
          "text": [
            "Epoch 1/25\n",
            "10/10 [==============================] - 0s 14ms/step - loss: 2.0652 - val_loss: 1.4262\n",
            "Epoch 2/25\n",
            "10/10 [==============================] - 0s 3ms/step - loss: 0.7343 - val_loss: 0.9616\n",
            "Epoch 3/25\n",
            "10/10 [==============================] - 0s 3ms/step - loss: 0.4442 - val_loss: 0.5935\n",
            "Epoch 4/25\n",
            "10/10 [==============================] - 0s 3ms/step - loss: 0.2941 - val_loss: 0.3689\n",
            "Epoch 5/25\n",
            "10/10 [==============================] - 0s 3ms/step - loss: 0.2390 - val_loss: 0.3981\n",
            "Epoch 6/25\n",
            "10/10 [==============================] - 0s 3ms/step - loss: 0.2040 - val_loss: 0.3577\n",
            "Epoch 7/25\n",
            "10/10 [==============================] - 0s 3ms/step - loss: 0.1836 - val_loss: 0.3502\n",
            "Epoch 8/25\n",
            "10/10 [==============================] - 0s 3ms/step - loss: 0.2020 - val_loss: 0.3310\n",
            "Epoch 9/25\n",
            "10/10 [==============================] - 0s 3ms/step - loss: 0.1836 - val_loss: 0.3211\n",
            "Epoch 10/25\n",
            "10/10 [==============================] - 0s 3ms/step - loss: 0.1654 - val_loss: 0.2847\n",
            "Epoch 11/25\n",
            "10/10 [==============================] - 0s 3ms/step - loss: 0.1469 - val_loss: 0.2857\n",
            "Epoch 12/25\n",
            "10/10 [==============================] - 0s 3ms/step - loss: 0.1411 - val_loss: 0.2504\n",
            "Epoch 13/25\n",
            "10/10 [==============================] - 0s 3ms/step - loss: 0.1207 - val_loss: 0.1734\n",
            "Epoch 14/25\n",
            "10/10 [==============================] - 0s 3ms/step - loss: 0.1850 - val_loss: 0.2432\n",
            "Epoch 15/25\n",
            "10/10 [==============================] - 0s 3ms/step - loss: 0.1934 - val_loss: 0.2107\n",
            "Epoch 16/25\n",
            "10/10 [==============================] - 0s 3ms/step - loss: 0.1449 - val_loss: 0.2278\n",
            "Epoch 17/25\n",
            "10/10 [==============================] - 0s 3ms/step - loss: 0.1305 - val_loss: 0.1817\n",
            "Epoch 18/25\n",
            "10/10 [==============================] - 0s 3ms/step - loss: 0.0958 - val_loss: 0.2080\n",
            "Epoch 19/25\n",
            "10/10 [==============================] - 0s 3ms/step - loss: 0.1066 - val_loss: 0.2042\n",
            "Epoch 20/25\n",
            "10/10 [==============================] - 0s 3ms/step - loss: 0.1037 - val_loss: 0.3255\n",
            "Epoch 21/25\n",
            "10/10 [==============================] - 0s 3ms/step - loss: 0.1328 - val_loss: 0.2839\n",
            "Epoch 22/25\n",
            "10/10 [==============================] - 0s 3ms/step - loss: 0.1200 - val_loss: 0.2448\n",
            "Epoch 23/25\n",
            "10/10 [==============================] - 0s 4ms/step - loss: 0.0899 - val_loss: 0.1422\n",
            "Epoch 24/25\n",
            "10/10 [==============================] - 0s 4ms/step - loss: 0.0727 - val_loss: 0.2002\n",
            "Epoch 25/25\n",
            "10/10 [==============================] - 0s 3ms/step - loss: 0.0822 - val_loss: 0.1940\n"
          ],
          "name": "stdout"
        }
      ]
    },
    {
      "cell_type": "code",
      "metadata": {
        "colab": {
          "base_uri": "https://localhost:8080/",
          "height": 279
        },
        "id": "_YJZbsG1dEoi",
        "outputId": "f04dffef-44c6-47ad-f308-3efb7c37143d"
      },
      "source": [
        "# 회귀 모델 학습 결과 시각화\n",
        "import matplotlib.pyplot as plt\n",
        "plt.plot(history.history['loss'], 'b-', label='loss')\n",
        "plt.plot(history.history['val_loss'], 'r--', label='val_loss')\n",
        "plt.xlabel('Epoch')\n",
        "plt.legend()\n",
        "plt.show()"
      ],
      "execution_count": null,
      "outputs": [
        {
          "output_type": "display_data",
          "data": {
            "image/png": "[encoded data removed]",
            "text/plain": [
              "<Figure size 432x288 with 1 Axes>"
            ]
          },
          "metadata": {
            "tags": [],
            "needs_background": "light"
          }
        }
      ]
    },
    {
      "cell_type": "code",
      "metadata": {
        "id": "ofle-virVIul",
        "colab": {
          "base_uri": "https://localhost:8080/"
        },
        "outputId": "948626b6-29f1-4a94-e9d3-e465a08b8f2a"
      },
      "source": [
        "# 회귀 모델 평가\n",
        "model.evaluate(test_X, test_Y)"
      ],
      "execution_count": null,
      "outputs": [
        {
          "output_type": "stream",
          "text": [
            "4/4 [==============================] - 0s 2ms/step - loss: 0.1958\n"
          ],
          "name": "stdout"
        },
        {
          "output_type": "execute_result",
          "data": {
            "text/plain": [
              "0.195794478058815"
            ]
          },
          "metadata": {
            "tags": []
          },
          "execution_count": 19
        }
      ]
    },
    {
      "cell_type": "code",
      "metadata": {
        "id": "Vn9alHQgWXeC",
        "colab": {
          "base_uri": "https://localhost:8080/",
          "height": 502
        },
        "outputId": "a38e23aa-acc0-4ed4-d2e7-00fbb0cb6945"
      },
      "source": [
        "# 실제 주택 가격과 예측 주택 가격 시각화\n",
        "import matplotlib.pyplot as plt\n",
        "\n",
        "pred_Y = model.predict(test_X)\n",
        "\n",
        "plt.figure(figsize=(8,8))\n",
        "plt.plot(test_Y, pred_Y, 'b.')\n",
        "plt.axis([min(test_Y), max(test_Y), min(test_Y), max(test_Y)])\n",
        "\n",
        "# y=x에 해당하는 대각선\n",
        "plt.plot([min(test_Y), max(test_Y)], [min(test_Y), max(test_Y)], ls=\"--\", c=\".5\")\n",
        "plt.xlabel('test_Y')\n",
        "plt.ylabel('pred_Y')\n",
        "\n",
        "plt.show()"
      ],
      "execution_count": null,
      "outputs": [
        {
          "output_type": "display_data",
          "data": {
            "image/png": "[encoded data removed]",
            "text/plain": [
              "<Figure size 576x576 with 1 Axes>"
            ]
          },
          "metadata": {
            "tags": [],
            "needs_background": "light"
          }
        }
      ]
    },
    {
      "cell_type": "code",
      "metadata": {
        "id": "xisBF1DpXKTS",
        "colab": {
          "base_uri": "https://localhost:8080/"
        },
        "outputId": "452c5c28-9457-4ee1-e459-9ee242ecd6b6"
      },
      "source": [
        "# 모델 재정의 및 학습\n",
        "model = tf.keras.Sequential([\n",
        "    tf.keras.layers.Dense(units=52, activation='relu', input_shape=(13,)),\n",
        "    tf.keras.layers.Dense(units=39, activation='relu'),\n",
        "    tf.keras.layers.Dense(units=26, activation='relu'),\n",
        "    tf.keras.layers.Dense(units=1)\n",
        "])\n",
        "\n",
        "model.compile(optimizer=tf.keras.optimizers.Adam(lr=0.07), loss='mse')\n",
        "\n",
        "history = model.fit(train_X, train_Y, epochs=25, batch_size=32, validation_split=0.25,\n",
        "                    callbacks=[tf.keras.callbacks.EarlyStopping(patience=3, monitor='val_loss')])"
      ],
      "execution_count": null,
      "outputs": [
        {
          "output_type": "stream",
          "text": [
            "Epoch 1/25\n",
            "10/10 [==============================] - 0s 13ms/step - loss: 4.0097 - val_loss: 0.7833\n",
            "Epoch 2/25\n",
            "10/10 [==============================] - 0s 3ms/step - loss: 0.4659 - val_loss: 0.3936\n",
            "Epoch 3/25\n",
            "10/10 [==============================] - 0s 3ms/step - loss: 0.4951 - val_loss: 0.3498\n",
            "Epoch 4/25\n",
            "10/10 [==============================] - 0s 3ms/step - loss: 0.2530 - val_loss: 0.6740\n",
            "Epoch 5/25\n",
            "10/10 [==============================] - 0s 3ms/step - loss: 0.6258 - val_loss: 0.4555\n",
            "Epoch 6/25\n",
            "10/10 [==============================] - 0s 3ms/step - loss: 0.2534 - val_loss: 0.6331\n"
          ],
          "name": "stdout"
        }
      ]
    },
    {
      "cell_type": "code",
      "metadata": {
        "id": "yPZIVSUPXcS6",
        "colab": {
          "base_uri": "https://localhost:8080/",
          "height": 279
        },
        "outputId": "bda9e69a-d734-4df6-d701-74492daa4555"
      },
      "source": [
        "# 회귀 모델 학습 결과 시각화\n",
        "import matplotlib.pyplot as plt\n",
        "plt.plot(history.history['loss'], 'b-', label='loss')\n",
        "plt.plot(history.history['val_loss'], 'r--', label='val_loss')\n",
        "plt.xlabel('Epoch')\n",
        "plt.legend()\n",
        "plt.show()"
      ],
      "execution_count": null,
      "outputs": [
        {
          "output_type": "display_data",
          "data": {
            "image/png": "[encoded data removed]",
            "text/plain": [
              "<Figure size 432x288 with 1 Axes>"
            ]
          },
          "metadata": {
            "tags": [],
            "needs_background": "light"
          }
        }
      ]
    },
    {
      "cell_type": "code",
      "metadata": {
        "id": "UHSZZ0FLX_fu",
        "colab": {
          "base_uri": "https://localhost:8080/"
        },
        "outputId": "cab47e20-cab1-4635-aeec-c4c402639056"
      },
      "source": [
        "# 회귀 모델 평가\n",
        "model.evaluate(test_X, test_Y)"
      ],
      "execution_count": null,
      "outputs": [
        {
          "output_type": "stream",
          "text": [
            "4/4 [==============================] - 0s 2ms/step - loss: 0.4710\n"
          ],
          "name": "stdout"
        },
        {
          "output_type": "execute_result",
          "data": {
            "text/plain": [
              "0.4710257351398468"
            ]
          },
          "metadata": {
            "tags": []
          },
          "execution_count": 23
        }
      ]
    },
    {
      "cell_type": "code",
      "metadata": {
        "colab": {
          "base_uri": "https://localhost:8080/",
          "height": 502
        },
        "id": "ZDLVxlJBdYUo",
        "outputId": "6fb2495f-a243-43fa-f8c9-e14ef86db4ed"
      },
      "source": [
        "# 실제 주택 가격과 예측 주택 가격 시각화\n",
        "import matplotlib.pyplot as plt\n",
        "\n",
        "pred_Y = model.predict(test_X)\n",
        "\n",
        "plt.figure(figsize=(8,8))\n",
        "plt.plot(test_Y, pred_Y, 'b.')\n",
        "plt.axis([min(test_Y), max(test_Y), min(test_Y), max(test_Y)])\n",
        "\n",
        "plt.plot([min(test_Y), max(test_Y)], [min(test_Y), max(test_Y)], ls=\"--\", c=\".3\")\n",
        "plt.xlabel('test_Y')\n",
        "plt.ylabel('pred_Y')\n",
        "\n",
        "plt.show()"
      ],
      "execution_count": null,
      "outputs": [
        {
          "output_type": "display_data",
          "data": {
            "image/png": "[encoded data removed]",
            "text/plain": [
              "<Figure size 576x576 with 1 Axes>"
            ]
          },
          "metadata": {
            "tags": [],
            "needs_background": "light"
          }
        }
      ]
    },
    {
      "cell_type": "code",
      "metadata": {
        "colab": {
          "base_uri": "https://localhost:8080/"
        },
        "id": "8KryBtW7daXR",
        "outputId": "584808ec-1b75-4a61-8af6-9a67a9bda7b3"
      },
      "source": [
        "# 모델 재정의 및 학습, dropout 사용\n",
        "model = tf.keras.Sequential([\n",
        "    tf.keras.layers.Dense(units=52, activation='relu', input_shape=(13,)),\n",
        "    tf.keras.layers.Dropout(.1),\n",
        "    tf.keras.layers.Dense(units=39, activation='relu'),\n",
        "    tf.keras.layers.Dense(units=26, activation='relu'),\n",
        "    tf.keras.layers.Dropout(.1),\n",
        "    tf.keras.layers.Dense(units=1)\n",
        "])\n",
        "\n",
        "model.compile(optimizer=tf.keras.optimizers.Adam(lr=0.07), loss='mse')\n",
        "\n",
        "history = model.fit(train_X, train_Y, epochs=25, batch_size=32, validation_split=0.25,\n",
        "                    callbacks=[tf.keras.callbacks.EarlyStopping(patience=4, monitor='val_loss')])"
      ],
      "execution_count": null,
      "outputs": [
        {
          "output_type": "stream",
          "text": [
            "Epoch 1/25\n",
            "10/10 [==============================] - 0s 14ms/step - loss: 2.2801 - val_loss: 0.6360\n",
            "Epoch 2/25\n",
            "10/10 [==============================] - 0s 5ms/step - loss: 0.4322 - val_loss: 0.5642\n",
            "Epoch 3/25\n",
            "10/10 [==============================] - 0s 4ms/step - loss: 0.4067 - val_loss: 0.3149\n",
            "Epoch 4/25\n",
            "10/10 [==============================] - 0s 4ms/step - loss: 0.2984 - val_loss: 0.3158\n",
            "Epoch 5/25\n",
            "10/10 [==============================] - 0s 4ms/step - loss: 0.2834 - val_loss: 0.2534\n",
            "Epoch 6/25\n",
            "10/10 [==============================] - 0s 3ms/step - loss: 0.2428 - val_loss: 0.2580\n",
            "Epoch 7/25\n",
            "10/10 [==============================] - 0s 3ms/step - loss: 0.2792 - val_loss: 0.3139\n",
            "Epoch 8/25\n",
            "10/10 [==============================] - 0s 4ms/step - loss: 0.2267 - val_loss: 0.2381\n",
            "Epoch 9/25\n",
            "10/10 [==============================] - 0s 4ms/step - loss: 0.2007 - val_loss: 0.1662\n",
            "Epoch 10/25\n",
            "10/10 [==============================] - 0s 4ms/step - loss: 0.1974 - val_loss: 0.1357\n",
            "Epoch 11/25\n",
            "10/10 [==============================] - 0s 4ms/step - loss: 0.1645 - val_loss: 0.1614\n",
            "Epoch 12/25\n",
            "10/10 [==============================] - 0s 4ms/step - loss: 0.2150 - val_loss: 0.4705\n",
            "Epoch 13/25\n",
            "10/10 [==============================] - 0s 4ms/step - loss: 0.2151 - val_loss: 0.3016\n",
            "Epoch 14/25\n",
            "10/10 [==============================] - 0s 3ms/step - loss: 0.1750 - val_loss: 0.1315\n",
            "Epoch 15/25\n",
            "10/10 [==============================] - 0s 4ms/step - loss: 0.2376 - val_loss: 0.3462\n",
            "Epoch 16/25\n",
            "10/10 [==============================] - 0s 4ms/step - loss: 0.2316 - val_loss: 0.2733\n",
            "Epoch 17/25\n",
            "10/10 [==============================] - 0s 4ms/step - loss: 0.2024 - val_loss: 0.3328\n",
            "Epoch 18/25\n",
            "10/10 [==============================] - 0s 3ms/step - loss: 0.2692 - val_loss: 0.5162\n"
          ],
          "name": "stdout"
        }
      ]
    },
    {
      "cell_type": "code",
      "metadata": {
        "colab": {
          "base_uri": "https://localhost:8080/",
          "height": 279
        },
        "id": "85jgtU5bdcwl",
        "outputId": "43dc635e-f7f1-40cb-aeae-d5bcd47ffb62"
      },
      "source": [
        "# 회귀 모델 학습 결과 시각화\n",
        "import matplotlib.pyplot as plt\n",
        "plt.plot(history.history['loss'], 'b-', label='loss')\n",
        "plt.plot(history.history['val_loss'], 'r--', label='val_loss')\n",
        "plt.xlabel('Epoch')\n",
        "plt.legend()\n",
        "plt.show()"
      ],
      "execution_count": null,
      "outputs": [
        {
          "output_type": "display_data",
          "data": {
            "image/png": "[encoded data removed]",
            "text/plain": [
              "<Figure size 432x288 with 1 Axes>"
            ]
          },
          "metadata": {
            "tags": [],
            "needs_background": "light"
          }
        }
      ]
    },
    {
      "cell_type": "code",
      "metadata": {
        "colab": {
          "base_uri": "https://localhost:8080/"
        },
        "id": "7dcOrkTpdffi",
        "outputId": "143539a9-18a2-4e67-ab27-69bc92e97d5e"
      },
      "source": [
        "# 회귀 모델 평가\n",
        "model.evaluate(test_X, test_Y)"
      ],
      "execution_count": null,
      "outputs": [
        {
          "output_type": "stream",
          "text": [
            "4/4 [==============================] - 0s 2ms/step - loss: 0.5034\n"
          ],
          "name": "stdout"
        },
        {
          "output_type": "execute_result",
          "data": {
            "text/plain": [
              "0.5034228563308716"
            ]
          },
          "metadata": {
            "tags": []
          },
          "execution_count": 27
        }
      ]
    },
    {
      "cell_type": "code",
      "metadata": {
        "colab": {
          "base_uri": "https://localhost:8080/",
          "height": 502
        },
        "id": "ZE3pFInQdht4",
        "outputId": "cc3638ee-c4a0-4095-d1f2-17859abc0d75"
      },
      "source": [
        "# 실제 주택 가격과 예측 주택 가격 시각화\n",
        "import matplotlib.pyplot as plt\n",
        "\n",
        "pred_Y = model.predict(test_X)\n",
        "\n",
        "plt.figure(figsize=(8,8))\n",
        "plt.plot(test_Y, pred_Y, 'b.')\n",
        "plt.axis([min(test_Y), max(test_Y), min(test_Y), max(test_Y)])\n",
        "\n",
        "plt.plot([min(test_Y), max(test_Y)], [min(test_Y), max(test_Y)], ls=\"--\", c=\".3\")\n",
        "plt.xlabel('test_Y')\n",
        "plt.ylabel('pred_Y')\n",
        "\n",
        "plt.show()"
      ],
      "execution_count": null,
      "outputs": [
        {
          "output_type": "display_data",
          "data": {
            "image/png": "[encoded data removed]",
            "text/plain": [
              "<Figure size 576x576 with 1 Axes>"
            ]
          },
          "metadata": {
            "tags": [],
            "needs_background": "light"
          }
        }
      ]
    },
    {
      "cell_type": "code",
      "metadata": {
        "id": "Q65UUsmydjqN"
      },
      "source": [
        ""
      ],
      "execution_count": null,
      "outputs": []
    }
  ]
}