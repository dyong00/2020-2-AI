{
  "nbformat": 4,
  "nbformat_minor": 0,
  "metadata": {
    "colab": {
      "name": "01-tf-basic.ipynb",
      "provenance": [],
      "collapsed_sections": [
        "dcXlsqbyJNpd",
        "2DPG6XjHPMYW"
      ],
      "authorship_tag": "ABX9TyP9PJVihyzp4SaHiTpOuOA8",
      "include_colab_link": true
    },
    "kernelspec": {
      "name": "python3",
      "display_name": "Python 3"
    }
  },
  "cells": [
    {
      "cell_type": "markdown",
      "metadata": {
        "id": "view-in-github",
        "colab_type": "text"
      },
      "source": [
        "<a href=\"https://colab.research.google.com/github/dyong00/2020-2-AI/blob/master/code/01_tf_basic.ipynb\" target=\"_parent\"><img src=\"https://colab.research.google.com/assets/colab-badge.svg\" alt=\"Open In Colab\"/></a>"
      ]
    },
    {
      "cell_type": "markdown",
      "metadata": {
        "id": "YikxyQEgJFvV"
      },
      "source": [
        "#버전1.x"
      ]
    },
    {
      "cell_type": "code",
      "metadata": {
        "id": "IiUTbW63yR1U",
        "outputId": "5bbace73-aea6-4468-80f3-bf34942ae820",
        "colab": {
          "base_uri": "https://localhost:8080/",
          "height": 105
        }
      },
      "source": [
        "#버전 변경 case1_기본\n",
        "%tensorflow_version 1.x "
      ],
      "execution_count": null,
      "outputs": [
        {
          "output_type": "stream",
          "text": [
            "`%tensorflow_version` only switches the major version: 1.x or 2.x.\n",
            "You set: `1.x #버전 변경`. This will be interpreted as: `1.x`.\n",
            "\n",
            "\n",
            "TensorFlow 1.x selected.\n"
          ],
          "name": "stdout"
        }
      ]
    },
    {
      "cell_type": "code",
      "metadata": {
        "id": "70ifRX-87_N2"
      },
      "source": [
        "#버전 변경 case2_예외 제어\n",
        "try:\n",
        "    %tensorflow_version 1.x #매직 명령어\n",
        "except Exception:\n",
        "    pass"
      ],
      "execution_count": null,
      "outputs": []
    },
    {
      "cell_type": "code",
      "metadata": {
        "id": "b6lPeSEiyvaW",
        "outputId": "a36ff551-f19b-4422-e90d-a72428327bf5",
        "colab": {
          "base_uri": "https://localhost:8080/",
          "height": 34
        }
      },
      "source": [
        "import tensorflow as tf#tenseorflow객체를 import한 후 식별자를 tf로 지정\n",
        "\n",
        "hello = tf.constant('Hello World!') #constant를 통해서 문자열 상수를 만듦\n",
        "a = 10\n",
        "b = 10\n",
        "\n",
        "print(tf.add(a,b)) #Tensor(\"Add:0\", shape=(), dtype=int32) \n",
        "#>>Tensor의 결과(Tensor의 name, 형태(스칼라 형식 값), 내부적인 데이터의 형식(int32타입))\n",
        "#>>Tensor의 정보만 나오고 안에 저장되어 있는 값은 나오지 않는다.\n",
        "#>>저장되어 있는 값(=20)이 나오게 하려면 Session을 부여해야 한다."
      ],
      "execution_count": null,
      "outputs": [
        {
          "output_type": "stream",
          "text": [
            "Tensor(\"Add:0\", shape=(), dtype=int32)\n"
          ],
          "name": "stdout"
        }
      ]
    },
    {
      "cell_type": "code",
      "metadata": {
        "id": "HI-LRUmN7Tk5",
        "outputId": "6e993e46-d243-421a-8f0b-127f400df6cf",
        "colab": {
          "base_uri": "https://localhost:8080/",
          "height": 34
        }
      },
      "source": [
        "sess = tf.Session()\n",
        "print(sess.run(tf.add(a,b))) #20 >>Session을 부여하여 저장되어있는 값을 출력\n",
        "sess.close()"
      ],
      "execution_count": null,
      "outputs": [
        {
          "output_type": "stream",
          "text": [
            "20\n"
          ],
          "name": "stdout"
        }
      ]
    },
    {
      "cell_type": "markdown",
      "metadata": {
        "id": "dcXlsqbyJNpd"
      },
      "source": [
        "#버전 2.x"
      ]
    },
    {
      "cell_type": "markdown",
      "metadata": {
        "id": "jTw_4iewNBKC"
      },
      "source": [
        "tensorflow객체 생성 및 버전 확인"
      ]
    },
    {
      "cell_type": "code",
      "metadata": {
        "id": "lLuFKR4MJQ9D",
        "outputId": "273a6ae7-0c9e-4b88-dbf4-61788b60b228",
        "colab": {
          "base_uri": "https://localhost:8080/",
          "height": 35
        }
      },
      "source": [
        "import tensorflow as tf\n",
        "tf.__version__"
      ],
      "execution_count": null,
      "outputs": [
        {
          "output_type": "execute_result",
          "data": {
            "application/vnd.google.colaboratory.intrinsic+json": {
              "type": "string"
            },
            "text/plain": [
              "'2.3.0'"
            ]
          },
          "metadata": {
            "tags": []
          },
          "execution_count": 2
        }
      ]
    },
    {
      "cell_type": "markdown",
      "metadata": {
        "id": "EYHq3rZjNIds"
      },
      "source": [
        "객체의 정보 확인하기"
      ]
    },
    {
      "cell_type": "code",
      "metadata": {
        "id": "k5zPOizIJ5S4",
        "outputId": "b7ec215f-2e77-42f7-9b2a-0547c49087aa",
        "colab": {
          "base_uri": "https://localhost:8080/",
          "height": 34
        }
      },
      "source": [
        "a = tf.constant(5) # Q. 그냥 a = 5 라고 쓰는 것과 무슨 차이일까?\n",
        "b = tf.constant(3)\n",
        "print(a+b) #tf.Tensor(8, shape=(), dtype=int32) \n",
        "#>> 1.x와 달리 Session을 사용하지 않아도 8이라는 Tensor의 결과가 나오는 것을 알 수 있음"
      ],
      "execution_count": null,
      "outputs": [
        {
          "output_type": "stream",
          "text": [
            "tf.Tensor(8, shape=(), dtype=int32)\n"
          ],
          "name": "stdout"
        }
      ]
    },
    {
      "cell_type": "code",
      "metadata": {
        "id": "KHOXou_-KRz8",
        "outputId": "b13cc3f8-0796-4b5f-bcd8-ba5a8cd38867",
        "colab": {
          "base_uri": "https://localhost:8080/",
          "height": 52
        }
      },
      "source": [
        "c = tf.constant('Hello,world!')\n",
        "\n",
        "print(c) #tf.Tensor(b'Hello,world!', shape=(), dtype=string)\n",
        "#>> 여기서 b는 byte타입을 의미한다\n",
        "\n",
        "print(c.numpy()) #b'Hello,world!'\n",
        "#>> c의 내용(값)만을 보고 싶다면, numpy()함수를 이용한다"
      ],
      "execution_count": null,
      "outputs": [
        {
          "output_type": "stream",
          "text": [
            "tf.Tensor(b'Hello,world!', shape=(), dtype=string)\n",
            "b'Hello,world!'\n"
          ],
          "name": "stdout"
        }
      ]
    },
    {
      "cell_type": "code",
      "metadata": {
        "id": "DAxuFH17Kvj3",
        "outputId": "cf58670e-2c19-4210-e967-9715f7d93323",
        "colab": {
          "base_uri": "https://localhost:8080/",
          "height": 52
        }
      },
      "source": [
        "#+번외\n",
        "print(a.shape) #형태만 출력\n",
        "print(a.dtype) #내부데이터 타입만 출력"
      ],
      "execution_count": null,
      "outputs": [
        {
          "output_type": "stream",
          "text": [
            "()\n",
            "<dtype: 'int32'>\n"
          ],
          "name": "stdout"
        }
      ]
    },
    {
      "cell_type": "code",
      "metadata": {
        "id": "HdxRuv3YMQ7Y",
        "outputId": "dad598d2-2250-4786-cbba-30d019fd8c2f",
        "colab": {
          "base_uri": "https://localhost:8080/",
          "height": 34
        }
      },
      "source": [
        "aa = tf.constant(5)\n",
        "aa #마지막줄에 적으면 numpy도 함꼐 뜸! >> print했을 때는 맨 앞에 인자가 numpy 값을 의미!"
      ],
      "execution_count": null,
      "outputs": [
        {
          "output_type": "execute_result",
          "data": {
            "text/plain": [
              "<tf.Tensor: shape=(), dtype=int32, numpy=5>"
            ]
          },
          "metadata": {
            "tags": []
          },
          "execution_count": 9
        }
      ]
    },
    {
      "cell_type": "markdown",
      "metadata": {
        "id": "AkdJXEetM_HP"
      },
      "source": [
        "배열"
      ]
    },
    {
      "cell_type": "code",
      "metadata": {
        "id": "9KUODnVgMhr3",
        "outputId": "1bcbda39-69f3-4951-8ac1-f660f4bc20d1",
        "colab": {
          "base_uri": "https://localhost:8080/",
          "height": 34
        }
      },
      "source": [
        "a = tf.constant([1,2,3])\n",
        "a.shape # TensorShape([3]) >>shape이 [n] 인 것을 보아 vector 타입이다!\n",
        "#>>Vector / 1차원 Tensor"
      ],
      "execution_count": null,
      "outputs": [
        {
          "output_type": "execute_result",
          "data": {
            "text/plain": [
              "TensorShape([3])"
            ]
          },
          "metadata": {
            "tags": []
          },
          "execution_count": 10
        }
      ]
    },
    {
      "cell_type": "code",
      "metadata": {
        "id": "ohMywuL4NSHI",
        "outputId": "f60feaf5-0271-48cd-954d-05c9faedc73f",
        "colab": {
          "base_uri": "https://localhost:8080/",
          "height": 34
        }
      },
      "source": [
        "a = tf.constant([[1,2,3],[4,5,6]])\n",
        "a.shape\n",
        "#>>행렬 / 2차원 Tensor"
      ],
      "execution_count": null,
      "outputs": [
        {
          "output_type": "execute_result",
          "data": {
            "text/plain": [
              "TensorShape([2, 3])"
            ]
          },
          "metadata": {
            "tags": []
          },
          "execution_count": 12
        }
      ]
    },
    {
      "cell_type": "code",
      "metadata": {
        "id": "BIYQpmtCNiAA",
        "outputId": "3e1d795e-b66d-49f8-c285-68df3380e865",
        "colab": {
          "base_uri": "https://localhost:8080/",
          "height": 34
        }
      },
      "source": [
        "a = tf.constant([[[1,2,3],[4,5,6]],[[1,2,3],[4,5,6]]])\n",
        "a.shape\n",
        "#>>텐서 / 3차원 Tensor"
      ],
      "execution_count": null,
      "outputs": [
        {
          "output_type": "execute_result",
          "data": {
            "text/plain": [
              "TensorShape([2, 2, 3])"
            ]
          },
          "metadata": {
            "tags": []
          },
          "execution_count": 13
        }
      ]
    },
    {
      "cell_type": "code",
      "metadata": {
        "id": "dLx6tM4xOKe3",
        "outputId": "68dd644e-7c95-48e8-e64d-5cda0ad222c1",
        "colab": {
          "base_uri": "https://localhost:8080/",
          "height": 122
        }
      },
      "source": [
        "a "
      ],
      "execution_count": null,
      "outputs": [
        {
          "output_type": "execute_result",
          "data": {
            "text/plain": [
              "<tf.Tensor: shape=(2, 2, 3), dtype=int32, numpy=\n",
              "array([[[1, 2, 3],\n",
              "        [4, 5, 6]],\n",
              "\n",
              "       [[1, 2, 3],\n",
              "        [4, 5, 6]]], dtype=int32)>"
            ]
          },
          "metadata": {
            "tags": []
          },
          "execution_count": 14
        }
      ]
    },
    {
      "cell_type": "markdown",
      "metadata": {
        "id": "Th3RVBYzO5bX"
      },
      "source": [
        "함수"
      ]
    },
    {
      "cell_type": "markdown",
      "metadata": {
        "id": "I2Cvi2AKO-iU"
      },
      "source": [
        "\n",
        "\n",
        "1. tf.cond(pred, true_fn=None, false_fn=None, name=None) : 조건 연산\n",
        "\n",
        "  *   pred를 검사해 참이면 true_fc 반환\n",
        "  * 거짓이면 false_fc 반환\n",
        "\n"
      ]
    },
    {
      "cell_type": "code",
      "metadata": {
        "id": "utcier2HOaMq",
        "outputId": "f54a359b-e404-4b13-d857-1ac597ad9f51",
        "colab": {
          "base_uri": "https://localhost:8080/",
          "height": 52
        }
      },
      "source": [
        "x = tf.constant(1.)\n",
        "bool = tf.constant(True)\n",
        "res = tf.cond(bool,lambda: tf.add(x,1.), lambda: tf.add(x,10.))\n",
        "#bool을 검사해 참일 경우 x(1.0)+1.0 = 2.0 / 거짓일 경우 x(1.0)+10.0 = 11.0\n",
        "#lambda\n",
        "print(res)\n",
        "print(res.numpy())"
      ],
      "execution_count": null,
      "outputs": [
        {
          "output_type": "stream",
          "text": [
            "tf.Tensor(2.0, shape=(), dtype=float32)\n",
            "2.0\n"
          ],
          "name": "stdout"
        }
      ]
    },
    {
      "cell_type": "code",
      "metadata": {
        "id": "YX19JEvISUEv",
        "outputId": "cc916e75-e891-4170-949e-a73db104321c",
        "colab": {
          "base_uri": "https://localhost:8080/",
          "height": 34
        }
      },
      "source": [
        "x = tf.constant(2)\n",
        "y = tf.constant(5)\n",
        "\n",
        "def f1() : return tf.multiply(x,17) #곱하기\n",
        "def f2() : return tf.add(y,23) #더하기\n",
        "\n",
        "r = tf.cond(tf.less(x,y),f1,f2)\n",
        "#x와 y를 비교했을 때 (x<y) , x가 작으면 f1함수(x*17=34) 실행 , 그렇지 않으면 f2 함수(y+23=28) 실행\n",
        "#less : 첫번째인자 < 두번째인자 의 논리 결과\n",
        "r.numpy()"
      ],
      "execution_count": null,
      "outputs": [
        {
          "output_type": "execute_result",
          "data": {
            "text/plain": [
              "34"
            ]
          },
          "metadata": {
            "tags": []
          },
          "execution_count": 18
        }
      ]
    },
    {
      "cell_type": "markdown",
      "metadata": {
        "id": "2DPG6XjHPMYW"
      },
      "source": [
        "\n",
        "\n",
        "# 1차원 배열 텐서\n",
        "\n"
      ]
    },
    {
      "cell_type": "code",
      "metadata": {
        "id": "hqJH11mpO67Q",
        "outputId": "87a3f7b0-fa59-43d4-b5eb-0d7d39d561fe",
        "colab": {
          "base_uri": "https://localhost:8080/",
          "height": 34
        }
      },
      "source": [
        "#1차원 배열 텐서\n",
        "t = tf.constant([1,2,3])\n",
        "t\n",
        "# shape=(3,) → tuple이 주로 모양이 ()의 모양이 됨"
      ],
      "execution_count": null,
      "outputs": [
        {
          "output_type": "execute_result",
          "data": {
            "text/plain": [
              "<tf.Tensor: shape=(3,), dtype=int32, numpy=array([1, 2, 3], dtype=int32)>"
            ]
          },
          "metadata": {
            "tags": []
          },
          "execution_count": 6
        }
      ]
    },
    {
      "cell_type": "code",
      "metadata": {
        "id": "BZonBrnoweXZ",
        "outputId": "dd809827-1875-4d48-bdfc-84043d1c1e8f",
        "colab": {
          "base_uri": "https://localhost:8080/",
          "height": 34
        }
      },
      "source": [
        "x = tf.constant([1,2,3])\n",
        "y = tf.constant([5,6,7])\n",
        "\n",
        "print((x+y).numpy()) #각 튜플의 요소끼리 더해져 결과 값이 나타난다"
      ],
      "execution_count": null,
      "outputs": [
        {
          "output_type": "stream",
          "text": [
            "[ 6  8 10]\n"
          ],
          "name": "stdout"
        }
      ]
    },
    {
      "cell_type": "code",
      "metadata": {
        "id": "WbxpYtztxH_2",
        "outputId": "376e1429-e4be-4f81-d642-da4100886514",
        "colab": {
          "base_uri": "https://localhost:8080/",
          "height": 70
        }
      },
      "source": [
        "a = tf.constant([5], dtype=tf.float32) # 1치원 벡터의 타입을 float32로 지정한다\n",
        "b = tf.constant([10], dtype=tf.float32) # 마찬가지\n",
        "c = tf.constant([2], dtype=tf.float32) # 마찬가지\n",
        "print(a.numpy())\n",
        "\n",
        "d = a*b+c #연산 진행\n",
        "\n",
        "print(d) # 값은 52 고이고, 1차원 벡터이므로 1이라는 모양이 나온다\n",
        "print(d.numpy()) #내부 값만을 출력"
      ],
      "execution_count": null,
      "outputs": [
        {
          "output_type": "stream",
          "text": [
            "[5.]\n",
            "tf.Tensor([52.], shape=(1,), dtype=float32)\n",
            "[52.]\n"
          ],
          "name": "stdout"
        }
      ]
    },
    {
      "cell_type": "markdown",
      "metadata": {
        "id": "WZ7sXokSx1FB"
      },
      "source": [
        "#텐서의 브로드캐스팅 ★매우중요!★\n",
        ": 모양이 다르더라도 연산이 가능하도록 함\n",
        "\n",
        "→ 즉 2차원 + 1차원 이더라도 임의로 맞출 수 있게끔 함"
      ]
    },
    {
      "cell_type": "code",
      "metadata": {
        "id": "lWx-d_OhxeAB",
        "outputId": "241360d2-450b-49d3-a50c-4fcb56a03e5c",
        "colab": {
          "base_uri": "https://localhost:8080/",
          "height": 87
        }
      },
      "source": [
        "x = tf.constant([[0],[10],[20],[30]]) #4행 1열\n",
        "y = tf.constant([0,1,2]) #1행 3열\n",
        "\n",
        "# x = 4행 1열을 4행 3열로 늘린다\n",
        "# y = 1행 3열을 4행 3열로 늘린다\n",
        "# x+y = 4행 3열이 된 x와 y의 각 자리의 내부 데이터를 더한다.\n",
        "print((x+y).numpy())"
      ],
      "execution_count": null,
      "outputs": [
        {
          "output_type": "stream",
          "text": [
            "[[ 0  1  2]\n",
            " [10 11 12]\n",
            " [20 21 22]\n",
            " [30 31 32]]\n"
          ],
          "name": "stdout"
        }
      ]
    },
    {
      "cell_type": "code",
      "metadata": {
        "id": "3cYoyew1yktA",
        "outputId": "9287d524-d3fe-4798-d243-ae0085311644",
        "colab": {
          "base_uri": "https://localhost:8080/",
          "height": 158
        }
      },
      "source": [
        "import numpy as np\n",
        "\n",
        "#numpy.arange() : 매개변수 -1까지의 숫자로 배열을 만듬 (여기선 0,1,2)\n",
        "print(np.arange(3)) \n",
        "\n",
        "#numpy.ones() : 매개변수 만큼의 행렬을 만들어주고, 각 자리를 1.0으로 초기화 함 (여기선 3x3, 2차원 행렬)\n",
        "print(np.ones((3,3)))\n",
        "print()\n",
        "\n",
        "x = tf.constant((np.arange(3)))\n",
        "y = tf.constant([5], dtype=tf.int64)\n",
        "print(x)\n",
        "print(y)\n",
        "print(x+y) #x와 y를 브로드 캐스팅함"
      ],
      "execution_count": null,
      "outputs": [
        {
          "output_type": "stream",
          "text": [
            "[0 1 2]\n",
            "[[1. 1. 1.]\n",
            " [1. 1. 1.]\n",
            " [1. 1. 1.]]\n",
            "\n",
            "tf.Tensor([0 1 2], shape=(3,), dtype=int64)\n",
            "tf.Tensor([5], shape=(1,), dtype=int64)\n",
            "tf.Tensor([5 6 7], shape=(3,), dtype=int64)\n"
          ],
          "name": "stdout"
        }
      ]
    },
    {
      "cell_type": "code",
      "metadata": {
        "id": "NyJH8boWzDMe",
        "outputId": "3673d26d-0b8a-4b58-cf18-4ffbab610aca",
        "colab": {
          "base_uri": "https://localhost:8080/",
          "height": 175
        }
      },
      "source": [
        "#★중간고사 때 브로드 캐스팅 문제 낸다! (반드시 이해하기)\n",
        "\n",
        "x = tf.constant((np.arange(3))) #0,1,2\n",
        "y = tf.constant([5], dtype=tf.int64) #5\n",
        "print((x+y).numpy()) #5, 6, 7\n",
        "print()\n",
        "\n",
        "x = tf.constant((np.ones((3,3)))) #1.0의 수가 들어간 3행 3열\n",
        "y = tf.constant(np.arange(3), dtype=tf.double) #1행 3열\n",
        "#연산을 할 것이므로 type은 실수형인 double로 지정 / 동일한 타입이어여 연산이 가능!\n",
        "print((x+y).numpy()) \n",
        "print()\n",
        "\n",
        "#reshape() : 모양을 바꾸는 함수 (여기선 1행 3열의 1차원 벡터를 3행 1열로 바꿈)\n",
        "x = tf.constant(np.arange(3).reshape(3, 1))\n",
        "y = tf.constant(np.arange(3)) #1행 3열\n",
        "print((x+y).numpy()) "
      ],
      "execution_count": null,
      "outputs": [
        {
          "output_type": "stream",
          "text": [
            "[5 6 7]\n",
            "\n",
            "[[1. 2. 3.]\n",
            " [1. 2. 3.]\n",
            " [1. 2. 3.]]\n",
            "\n",
            "[[0 1 2]\n",
            " [1 2 3]\n",
            " [2 3 4]]\n"
          ],
          "name": "stdout"
        }
      ]
    },
    {
      "cell_type": "code",
      "metadata": {
        "id": "DZNZf7os2bq3",
        "outputId": "dd5fbf56-5adf-465b-aa7b-2849526d1a03",
        "colab": {
          "base_uri": "https://localhost:8080/",
          "height": 34
        }
      },
      "source": [
        "a = 2\n",
        "b = 3\n",
        "c = tf.add(a, b)\n",
        "print(c.numpy)"
      ],
      "execution_count": null,
      "outputs": [
        {
          "output_type": "stream",
          "text": [
            "<bound method _EagerTensorBase.numpy of <tf.Tensor: shape=(), dtype=int32, numpy=5>>\n"
          ],
          "name": "stdout"
        }
      ]
    }
  ]
}