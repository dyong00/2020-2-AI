{
  "nbformat": 4,
  "nbformat_minor": 0,
  "metadata": {
    "colab": {
      "name": "03-tf-random.ipynb",
      "provenance": [],
      "collapsed_sections": [],
      "include_colab_link": true
    },
    "kernelspec": {
      "name": "python3",
      "display_name": "Python 3"
    }
  },
  "cells": [
    {
      "cell_type": "markdown",
      "metadata": {
        "id": "view-in-github",
        "colab_type": "text"
      },
      "source": [
        "<a href=\"https://colab.research.google.com/github/dyong00/2020-2-AI/blob/master/code/03_tf_random.ipynb\" target=\"_parent\"><img src=\"https://colab.research.google.com/assets/colab-badge.svg\" alt=\"Open In Colab\"/></a>"
      ]
    },
    {
      "cell_type": "code",
      "metadata": {
        "id": "fhKzdWbgBPVl",
        "outputId": "f804a917-cbcc-4031-edcf-55983fd494fc",
        "colab": {
          "base_uri": "https://localhost:8080/",
          "height": 35
        }
      },
      "source": [
        "import tensorflow as tf\n",
        "tf.__version__"
      ],
      "execution_count": null,
      "outputs": [
        {
          "output_type": "execute_result",
          "data": {
            "application/vnd.google.colaboratory.intrinsic+json": {
              "type": "string"
            },
            "text/plain": [
              "'2.3.0'"
            ]
          },
          "metadata": {
            "tags": []
          },
          "execution_count": 1
        }
      ]
    },
    {
      "cell_type": "code",
      "metadata": {
        "id": "byp9xg8JVby_",
        "outputId": "5169ccea-c36d-4749-a8de-a506e0f1acea",
        "colab": {
          "base_uri": "https://localhost:8080/",
          "height": 34
        }
      },
      "source": [
        "# 3.7 랜덤한 수 얻기 (균일 분포)\n",
        "rand = tf.random.uniform([1], 0, 1)\n",
        "print(rand)"
      ],
      "execution_count": null,
      "outputs": [
        {
          "output_type": "stream",
          "text": [
            "tf.Tensor([0.97533107], shape=(1,), dtype=float32)\n"
          ],
          "name": "stdout"
        }
      ]
    },
    {
      "cell_type": "code",
      "metadata": {
        "id": "mKXZwQUXVjRZ",
        "outputId": "08b0c7b5-9b41-4faa-b5f3-a9eb36f8fbcc",
        "colab": {
          "base_uri": "https://localhost:8080/",
          "height": 122
        }
      },
      "source": [
        "rand = tf.random.uniform([5, 4], 0, 1)\n",
        "print(rand)"
      ],
      "execution_count": null,
      "outputs": [
        {
          "output_type": "stream",
          "text": [
            "tf.Tensor(\n",
            "[[0.25230682 0.6397984  0.37436223 0.770545  ]\n",
            " [0.14023125 0.02703297 0.5336896  0.38628888]\n",
            " [0.9142691  0.3827548  0.08846509 0.1561873 ]\n",
            " [0.23454952 0.29637837 0.20850873 0.07115293]\n",
            " [0.40059173 0.9256475  0.644096   0.20369267]], shape=(5, 4), dtype=float32)\n"
          ],
          "name": "stdout"
        }
      ]
    },
    {
      "cell_type": "code",
      "metadata": {
        "id": "HSq0iXQkVpEI",
        "outputId": "ff2147de-4959-4030-bbab-8d4fec2745a8",
        "colab": {
          "base_uri": "https://localhost:8080/",
          "height": 70
        }
      },
      "source": [
        "rand = tf.random.uniform([1000], 0, 10)\n",
        "print(rand[:10])"
      ],
      "execution_count": null,
      "outputs": [
        {
          "output_type": "stream",
          "text": [
            "tf.Tensor(\n",
            "[3.8768625 8.947655  4.1211615 4.0173626 8.253801  3.2675886 3.2730246\n",
            " 2.5984442 7.9269514 2.6361334], shape=(10,), dtype=float32)\n"
          ],
          "name": "stdout"
        }
      ]
    },
    {
      "cell_type": "code",
      "metadata": {
        "id": "1_I1thZdVwxC",
        "outputId": "5b3f3a83-2566-4c36-f9ac-5bc6124e23d9",
        "colab": {
          "base_uri": "https://localhost:8080/",
          "height": 370
        }
      },
      "source": [
        "import matplotlib.pyplot as plt\n",
        "rand = tf.random.uniform([10000], 0, 50)\n",
        "plt.hist(rand, bins=10)"
      ],
      "execution_count": null,
      "outputs": [
        {
          "output_type": "execute_result",
          "data": {
            "text/plain": [
              "(array([ 976.,  969.,  991.,  961., 1043., 1016., 1040.,  983., 1017.,\n",
              "        1004.]),\n",
              " array([3.8087368e-03, 5.0031834e+00, 1.0002558e+01, 1.5001932e+01,\n",
              "        2.0001307e+01, 2.5000681e+01, 3.0000057e+01, 3.4999432e+01,\n",
              "        3.9998806e+01, 4.4998180e+01, 4.9997555e+01], dtype=float32),\n",
              " <a list of 10 Patch objects>)"
            ]
          },
          "metadata": {
            "tags": []
          },
          "execution_count": 5
        },
        {
          "output_type": "display_data",
          "data": {
            "image/png": "[encoded data removed]",
            "text/plain": [
              "<Figure size 432x288 with 1 Axes>"
            ]
          },
          "metadata": {
            "tags": [],
            "needs_background": "light"
          }
        }
      ]
    },
    {
      "cell_type": "code",
      "metadata": {
        "id": "OE3KuErJWtxI",
        "outputId": "cc9b74a1-7710-49cd-92af-aaa777f31386",
        "colab": {
          "base_uri": "https://localhost:8080/",
          "height": 34
        }
      },
      "source": [
        "# 3.9 랜덤한 수 여러 개 얻기 (정규 분포)\n",
        "rand = tf.random.normal([4], 0, 1)\n",
        "print(rand)"
      ],
      "execution_count": null,
      "outputs": [
        {
          "output_type": "stream",
          "text": [
            "tf.Tensor([ 0.67363507 -0.80694526 -0.88933367  1.9373616 ], shape=(4,), dtype=float32)\n"
          ],
          "name": "stdout"
        }
      ]
    },
    {
      "cell_type": "code",
      "metadata": {
        "id": "QT_S8QCJXdXe",
        "outputId": "25f1ad95-186a-4b2d-dd26-de8a1f6d3155",
        "colab": {
          "base_uri": "https://localhost:8080/",
          "height": 70
        }
      },
      "source": [
        "# 3.9 랜덤한 수 여러 개 얻기 (정규 분포)\n",
        "rand = tf.random.normal([2, 4], 0, 1)\n",
        "print(rand)"
      ],
      "execution_count": null,
      "outputs": [
        {
          "output_type": "stream",
          "text": [
            "tf.Tensor(\n",
            "[[ 0.9114055   0.1259557   0.95283824 -0.43506074]\n",
            " [ 1.1695759   0.42135483  0.9876177   0.38507402]], shape=(2, 4), dtype=float32)\n"
          ],
          "name": "stdout"
        }
      ]
    },
    {
      "cell_type": "code",
      "metadata": {
        "id": "G4lo-sI7YKYm",
        "outputId": "828fab19-dd83-45f8-bc75-9463d082d00b",
        "colab": {
          "base_uri": "https://localhost:8080/",
          "height": 951
        }
      },
      "source": [
        "import matplotlib.pyplot as plt\n",
        "rand = tf.random.normal([100000], 0, 1)\n",
        "plt.hist(rand, bins=100)"
      ],
      "execution_count": null,
      "outputs": [
        {
          "output_type": "execute_result",
          "data": {
            "text/plain": [
              "(array([1.000e+00, 0.000e+00, 0.000e+00, 0.000e+00, 0.000e+00, 1.000e+00,\n",
              "        0.000e+00, 0.000e+00, 1.000e+00, 0.000e+00, 1.000e+00, 2.000e+00,\n",
              "        4.000e+00, 5.000e+00, 1.100e+01, 3.000e+00, 7.000e+00, 1.500e+01,\n",
              "        2.000e+01, 2.400e+01, 3.600e+01, 3.900e+01, 7.600e+01, 6.900e+01,\n",
              "        9.200e+01, 1.350e+02, 1.580e+02, 1.960e+02, 2.400e+02, 2.780e+02,\n",
              "        3.740e+02, 4.060e+02, 4.830e+02, 6.390e+02, 7.110e+02, 9.190e+02,\n",
              "        1.024e+03, 1.195e+03, 1.367e+03, 1.463e+03, 1.645e+03, 1.887e+03,\n",
              "        2.107e+03, 2.303e+03, 2.552e+03, 2.779e+03, 2.891e+03, 3.154e+03,\n",
              "        3.355e+03, 3.471e+03, 3.460e+03, 3.618e+03, 3.531e+03, 3.688e+03,\n",
              "        3.690e+03, 3.608e+03, 3.579e+03, 3.464e+03, 3.366e+03, 3.298e+03,\n",
              "        3.061e+03, 2.830e+03, 2.611e+03, 2.446e+03, 2.344e+03, 2.019e+03,\n",
              "        1.933e+03, 1.772e+03, 1.509e+03, 1.255e+03, 1.153e+03, 9.630e+02,\n",
              "        8.780e+02, 6.810e+02, 5.760e+02, 5.300e+02, 3.810e+02, 3.360e+02,\n",
              "        2.760e+02, 2.220e+02, 1.730e+02, 1.320e+02, 1.190e+02, 9.400e+01,\n",
              "        7.100e+01, 5.400e+01, 3.000e+01, 2.900e+01, 1.700e+01, 1.400e+01,\n",
              "        1.500e+01, 1.100e+01, 3.000e+00, 6.000e+00, 7.000e+00, 2.000e+00,\n",
              "        1.000e+00, 2.000e+00, 1.000e+00, 2.000e+00]),\n",
              " array([-4.976222  , -4.883759  , -4.791296  , -4.698833  , -4.60637   ,\n",
              "        -4.513907  , -4.421444  , -4.328981  , -4.236518  , -4.144055  ,\n",
              "        -4.051592  , -3.9591289 , -3.8666658 , -3.7742028 , -3.6817398 ,\n",
              "        -3.5892768 , -3.4968138 , -3.4043508 , -3.3118877 , -3.2194247 ,\n",
              "        -3.1269617 , -3.0344987 , -2.9420357 , -2.8495727 , -2.7571096 ,\n",
              "        -2.6646466 , -2.5721834 , -2.4797204 , -2.3872573 , -2.2947943 ,\n",
              "        -2.2023313 , -2.1098683 , -2.0174053 , -1.9249424 , -1.8324794 ,\n",
              "        -1.7400163 , -1.6475533 , -1.5550903 , -1.4626272 , -1.3701642 ,\n",
              "        -1.2777011 , -1.1852381 , -1.0927751 , -1.0003121 , -0.9078491 ,\n",
              "        -0.81538606, -0.72292304, -0.63046   , -0.537997  , -0.445534  ,\n",
              "        -0.35307097, -0.26060796, -0.16814493, -0.07568191,  0.01678111,\n",
              "         0.10924413,  0.20170715,  0.29417017,  0.3866332 ,  0.4790962 ,\n",
              "         0.57155925,  0.66402227,  0.7564853 ,  0.8489483 ,  0.9414113 ,\n",
              "         1.0338744 ,  1.1263374 ,  1.2188004 ,  1.3112634 ,  1.4037265 ,\n",
              "         1.4961895 ,  1.5886525 ,  1.6811155 ,  1.7735785 ,  1.8660415 ,\n",
              "         1.9585046 ,  2.0509677 ,  2.1434307 ,  2.2358937 ,  2.3283567 ,\n",
              "         2.4208198 ,  2.5132828 ,  2.6057458 ,  2.6982088 ,  2.7906718 ,\n",
              "         2.8831348 ,  2.9755979 ,  3.0680609 ,  3.160524  ,  3.252987  ,\n",
              "         3.34545   ,  3.437913  ,  3.530376  ,  3.622839  ,  3.715302  ,\n",
              "         3.807765  ,  3.900228  ,  3.992691  ,  4.085154  ,  4.177617  ,\n",
              "         4.27008   ], dtype=float32),\n",
              " <a list of 100 Patch objects>)"
            ]
          },
          "metadata": {
            "tags": []
          },
          "execution_count": 11
        },
        {
          "output_type": "display_data",
          "data": {
            "image/png": "[encoded data removed]",
            "text/plain": [
              "<Figure size 432x288 with 1 Axes>"
            ]
          },
          "metadata": {
            "tags": [],
            "needs_background": "light"
          }
        }
      ]
    },
    {
      "cell_type": "code",
      "metadata": {
        "id": "OfhiGxlRYUI6",
        "outputId": "cd8ecc3e-7e08-433f-fa72-3ef40926cb7d",
        "colab": {
          "base_uri": "https://localhost:8080/",
          "height": 617
        }
      },
      "source": [
        "import matplotlib.pyplot as plt\n",
        "rand1 = tf.random.normal([100000], 0, 1)\n",
        "rand2 = tf.random.uniform([150000], 0, 1)\n",
        "plt.hist(rand1, bins=100)\n",
        "plt.hist(rand2, bins=50)"
      ],
      "execution_count": null,
      "outputs": [
        {
          "output_type": "execute_result",
          "data": {
            "text/plain": [
              "(array([2999., 2941., 2999., 2946., 3009., 2907., 3034., 3048., 3087.,\n",
              "        2911., 3000., 3001., 2958., 3108., 2931., 3026., 2956., 3121.,\n",
              "        2999., 2998., 2963., 3025., 2904., 3044., 3116., 3035., 2982.,\n",
              "        2934., 2996., 3015., 3022., 2959., 3024., 3103., 2847., 3086.,\n",
              "        2946., 2998., 2986., 3046., 3027., 2905., 2976., 3031., 2988.,\n",
              "        3063., 3066., 2962., 3027., 2945.]),\n",
              " array([7.15255737e-07, 2.00005341e-02, 4.00003530e-02, 6.00001700e-02,\n",
              "        7.99999908e-02, 9.99998078e-02, 1.19999625e-01, 1.39999449e-01,\n",
              "        1.59999266e-01, 1.79999083e-01, 1.99998900e-01, 2.19998717e-01,\n",
              "        2.39998534e-01, 2.59998351e-01, 2.79998183e-01, 2.99997985e-01,\n",
              "        3.19997817e-01, 3.39997649e-01, 3.59997451e-01, 3.79997283e-01,\n",
              "        3.99997085e-01, 4.19996917e-01, 4.39996719e-01, 4.59996551e-01,\n",
              "        4.79996353e-01, 4.99996185e-01, 5.19995987e-01, 5.39995849e-01,\n",
              "        5.59995651e-01, 5.79995453e-01, 5.99995255e-01, 6.19995117e-01,\n",
              "        6.39994919e-01, 6.59994721e-01, 6.79994583e-01, 6.99994385e-01,\n",
              "        7.19994187e-01, 7.39993989e-01, 7.59993851e-01, 7.79993653e-01,\n",
              "        7.99993455e-01, 8.19993258e-01, 8.39993119e-01, 8.59992921e-01,\n",
              "        8.79992723e-01, 8.99992585e-01, 9.19992387e-01, 9.39992189e-01,\n",
              "        9.59991992e-01, 9.79991853e-01, 9.99991655e-01], dtype=float32),\n",
              " <a list of 50 Patch objects>)"
            ]
          },
          "metadata": {
            "tags": []
          },
          "execution_count": 14
        },
        {
          "output_type": "display_data",
          "data": {
            "image/png": "[encoded data removed]",
            "text/plain": [
              "<Figure size 432x288 with 1 Axes>"
            ]
          },
          "metadata": {
            "tags": [],
            "needs_background": "light"
          }
        }
      ]
    },
    {
      "cell_type": "code",
      "metadata": {
        "id": "3wGbUGreY4d7",
        "outputId": "7cc8df83-e3b4-467c-86eb-5cc2aa9cff95",
        "colab": {
          "base_uri": "https://localhost:8080/",
          "height": 961
        }
      },
      "source": [
        "import matplotlib.pyplot as plt\n",
        "rand1 = tf.random.normal([1000], 0, 1)\n",
        "rand2 = tf.random.uniform([2000], 0, 1)\n",
        "\n",
        "plt.rcParams[\"figure.figsize\"] = (12, 6)\n",
        "fig, axes = plt.subplots(1, 2, sharex=True, sharey=True)\n",
        "axes[0].hist(rand1, bins=100)\n",
        "axes[1].hist(rand2, bins=100)"
      ],
      "execution_count": null,
      "outputs": [
        {
          "output_type": "execute_result",
          "data": {
            "text/plain": [
              "(array([21., 22., 18., 17., 33., 21., 22., 18., 18., 24., 29., 22., 25.,\n",
              "        22., 20., 18., 17., 26., 20., 13., 21., 19., 24., 21., 23., 18.,\n",
              "        13., 23., 12., 17., 20., 20., 20., 21., 13., 29., 24., 17., 21.,\n",
              "        10., 19., 24., 22., 23., 18., 15., 11., 16., 24., 24., 20., 18.,\n",
              "        23., 24., 27., 24., 18., 14.,  9., 17., 11., 16., 22., 24., 21.,\n",
              "        19., 16., 20., 16., 28., 21., 18., 15., 22., 21., 18., 23., 16.,\n",
              "        15., 17., 24., 24., 25., 31., 17., 19., 15., 22., 17., 21., 19.,\n",
              "        27., 19., 18., 22., 18., 19., 16., 17., 29.]),\n",
              " array([2.13623047e-04, 1.02063492e-02, 2.01990753e-02, 3.01918015e-02,\n",
              "        4.01845276e-02, 5.01772538e-02, 6.01699799e-02, 7.01627061e-02,\n",
              "        8.01554322e-02, 9.01481584e-02, 1.00140885e-01, 1.10133611e-01,\n",
              "        1.20126337e-01, 1.30119056e-01, 1.40111789e-01, 1.50104508e-01,\n",
              "        1.60097241e-01, 1.70089960e-01, 1.80082694e-01, 1.90075412e-01,\n",
              "        2.00068146e-01, 2.10060865e-01, 2.20053598e-01, 2.30046317e-01,\n",
              "        2.40039051e-01, 2.50031769e-01, 2.60024488e-01, 2.70017207e-01,\n",
              "        2.80009955e-01, 2.90002674e-01, 2.99995393e-01, 3.09988111e-01,\n",
              "        3.19980860e-01, 3.29973578e-01, 3.39966297e-01, 3.49959016e-01,\n",
              "        3.59951764e-01, 3.69944483e-01, 3.79937202e-01, 3.89929920e-01,\n",
              "        3.99922669e-01, 4.09915388e-01, 4.19908106e-01, 4.29900825e-01,\n",
              "        4.39893574e-01, 4.49886292e-01, 4.59879011e-01, 4.69871730e-01,\n",
              "        4.79864478e-01, 4.89857197e-01, 4.99849916e-01, 5.09842634e-01,\n",
              "        5.19835353e-01, 5.29828072e-01, 5.39820790e-01, 5.49813569e-01,\n",
              "        5.59806287e-01, 5.69799006e-01, 5.79791725e-01, 5.89784443e-01,\n",
              "        5.99777162e-01, 6.09769881e-01, 6.19762599e-01, 6.29755378e-01,\n",
              "        6.39748096e-01, 6.49740815e-01, 6.59733534e-01, 6.69726253e-01,\n",
              "        6.79718971e-01, 6.89711690e-01, 6.99704409e-01, 7.09697187e-01,\n",
              "        7.19689906e-01, 7.29682624e-01, 7.39675343e-01, 7.49668062e-01,\n",
              "        7.59660780e-01, 7.69653499e-01, 7.79646218e-01, 7.89638937e-01,\n",
              "        7.99631715e-01, 8.09624434e-01, 8.19617152e-01, 8.29609871e-01,\n",
              "        8.39602590e-01, 8.49595308e-01, 8.59588027e-01, 8.69580746e-01,\n",
              "        8.79573524e-01, 8.89566243e-01, 8.99558961e-01, 9.09551680e-01,\n",
              "        9.19544399e-01, 9.29537117e-01, 9.39529836e-01, 9.49522555e-01,\n",
              "        9.59515333e-01, 9.69508052e-01, 9.79500771e-01, 9.89493489e-01,\n",
              "        9.99486208e-01], dtype=float32),\n",
              " <a list of 100 Patch objects>)"
            ]
          },
          "metadata": {
            "tags": []
          },
          "execution_count": 15
        },
        {
          "output_type": "display_data",
          "data": {
            "image/png": "[encoded data removed]",
            "text/plain": [
              "<Figure size 864x432 with 2 Axes>"
            ]
          },
          "metadata": {
            "tags": [],
            "needs_background": "light"
          }
        }
      ]
    },
    {
      "cell_type": "code",
      "metadata": {
        "id": "KgL-C6m2Zq2G",
        "outputId": "eb72d3b9-4cea-4ad1-9271-61ebf467b235",
        "colab": {
          "base_uri": "https://localhost:8080/",
          "height": 52
        }
      },
      "source": [
        "import numpy as np\n",
        "a = np.arange(10)\n",
        "print(a)\n",
        "tf.random.shuffle(a)"
      ],
      "execution_count": null,
      "outputs": [
        {
          "output_type": "stream",
          "text": [
            "[0 1 2 3 4 5 6 7 8 9]\n"
          ],
          "name": "stdout"
        },
        {
          "output_type": "execute_result",
          "data": {
            "text/plain": [
              "<tf.Tensor: shape=(10,), dtype=int64, numpy=array([6, 4, 2, 9, 1, 5, 3, 0, 8, 7])>"
            ]
          },
          "metadata": {
            "tags": []
          },
          "execution_count": 16
        }
      ]
    },
    {
      "cell_type": "code",
      "metadata": {
        "id": "ZQ2tYRddbQWK",
        "outputId": "9273af23-aceb-4f00-d953-bbbfb3e6ca2f",
        "colab": {
          "base_uri": "https://localhost:8080/",
          "height": 87
        }
      },
      "source": [
        "import numpy as np\n",
        "a = np.arange(20).reshape(4, 5)\n",
        "a"
      ],
      "execution_count": null,
      "outputs": [
        {
          "output_type": "execute_result",
          "data": {
            "text/plain": [
              "array([[ 0,  1,  2,  3,  4],\n",
              "       [ 5,  6,  7,  8,  9],\n",
              "       [10, 11, 12, 13, 14],\n",
              "       [15, 16, 17, 18, 19]])"
            ]
          },
          "metadata": {
            "tags": []
          },
          "execution_count": 17
        }
      ]
    },
    {
      "cell_type": "code",
      "metadata": {
        "id": "gyX2X69jbVXa",
        "outputId": "b0123b0a-8d63-44cc-ab57-304754e391b2",
        "colab": {
          "base_uri": "https://localhost:8080/",
          "height": 105
        }
      },
      "source": [
        "tf.random.shuffle(a)"
      ],
      "execution_count": null,
      "outputs": [
        {
          "output_type": "execute_result",
          "data": {
            "text/plain": [
              "<tf.Tensor: shape=(4, 5), dtype=int64, numpy=\n",
              "array([[ 5,  6,  7,  8,  9],\n",
              "       [ 0,  1,  2,  3,  4],\n",
              "       [10, 11, 12, 13, 14],\n",
              "       [15, 16, 17, 18, 19]])>"
            ]
          },
          "metadata": {
            "tags": []
          },
          "execution_count": 18
        }
      ]
    },
    {
      "cell_type": "code",
      "metadata": {
        "id": "-ZGqAcQvbXeQ"
      },
      "source": [
        ""
      ],
      "execution_count": null,
      "outputs": []
    }
  ]
}